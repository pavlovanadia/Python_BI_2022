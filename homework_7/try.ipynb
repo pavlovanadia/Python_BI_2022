{
 "cells": [
  {
   "cell_type": "code",
   "execution_count": 43,
   "metadata": {},
   "outputs": [
    {
     "data": {
      "text/plain": [
       "[1.0, 8.0, 27.0, 64.0, 125.0]"
      ]
     },
     "execution_count": 43,
     "metadata": {},
     "output_type": "execute_result"
    }
   ],
   "source": [
    "import numpy as np\n",
    "\"\"\" Task 1.\n",
    "sequential_map - функция должна принимать в качестве аргументов любое количество функций \n",
    "(позиционными аргументами, НЕ списком), а также контейнер с какими-то значениями. \n",
    "Функция должна возвращать список результатов последовательного применения переданных функций \n",
    "к значениям в контейнере. Например, sequential_map(np.square, np.sqrt, lambda x: x**3, [1, 2, 3, 4, 5]) -> [1, 8, 27, 64, 125]\"\"\"\n",
    "\n",
    "def sequential_map(*args):\n",
    "    funcs = args[:-1]\n",
    "    container = args[-1]\n",
    "    for func in funcs:\n",
    "        container = list(map(func, container))\n",
    "    return container\n",
    "\n",
    "sequential_map(np.square, np.sqrt, lambda x: x**3, [1, 2, 3, 4, 5])\n"
   ]
  },
  {
   "cell_type": "code",
   "execution_count": 28,
   "metadata": {},
   "outputs": [
    {
     "data": {
      "text/plain": [
       "[6, 7]"
      ]
     },
     "execution_count": 28,
     "metadata": {},
     "output_type": "execute_result"
    }
   ],
   "source": [
    "\"\"\"Task 2.\n",
    "consensus_filter - функция должна принимать в качестве аргументов любое количество функций \n",
    "(позиционными  аргументами, НЕ списком), возвращающих True или False, \n",
    "а также контейнер с какими-то значениями. \n",
    "Функция должна возвращать список значений, которые при передаче их во все функции дают True. \n",
    "Например: consensus_filter(lambda x: x > 0, lambda x: x > 5, lambda x: x < 10, [-2, 0, 4, 6, 11]) -> [6]\"\"\"\n",
    "\n",
    "def consensus_filter(*args):\n",
    "    funcs = args[:-1]\n",
    "    container = args[-1]\n",
    "    for func in funcs:\n",
    "        container = list(filter(func, container))\n",
    "    return container\n",
    "\n",
    "consensus_filter(lambda x: x > 0, lambda x: x > 5, lambda x: x < 10, [-2, 0, 4, 6, 7, 11])"
   ]
  },
  {
   "cell_type": "code",
   "execution_count": 40,
   "metadata": {},
   "outputs": [
    {
     "data": {
      "text/plain": [
       "4"
      ]
     },
     "execution_count": 40,
     "metadata": {},
     "output_type": "execute_result"
    }
   ],
   "source": [
    "\"\"\"Task 3.\n",
    "conditional_reduce - функция должна принимать 2 функции, а также контейнер с значениями. \n",
    "Первая функция должна принимать 1 аргумент и возвращать True или False, \n",
    "вторая также принимает 2 аргумента и возвращает значение (как в обычной функции reduce). \n",
    "conditional_reduce должна возвращать одно значение - результат reduce, пропуская значения с которыми \n",
    "первая функция выдала False. \n",
    "Например, conditional_reduce(lambda x: x < 5, lambda x, y: x + y, [1, 3, 5, 10]) -> 4\"\"\"\n",
    "\n",
    "def conditional_reduce(func1, func2, container):\n",
    "    container = list(filter(func1, container))\n",
    "    result = container[0]\n",
    "    for nxt in container[1:]:\n",
    "        result = func2(result, nxt)\n",
    "    return result\n",
    "\n",
    "conditional_reduce(lambda x: x < 5, lambda x, y: x + y, [1, 3, 5, 10])"
   ]
  },
  {
   "cell_type": "code",
   "execution_count": 2,
   "metadata": {},
   "outputs": [
    {
     "data": {
      "text/plain": [
       "(9.75, 9)"
      ]
     },
     "execution_count": 2,
     "metadata": {},
     "output_type": "execute_result"
    }
   ],
   "source": [
    "\"\"\"Task  4.\n",
    "func_chain - функция должна принимать в качестве аргументов любое количество функций \n",
    "(позиционными  аргументами, НЕ списком). \n",
    "Функция должна возвращать функцию, объединяющую все переданные последовательным выполнением. \n",
    "Например, my_chain = func_chain(lambda x: x + 2, lambda x: (x/4, x//4)). \n",
    "my_chain(37) -> (9.75, 9). \n",
    "+2 дополнительных балла за интеграцию этой функции в 1 задание.\"\"\"\n",
    "\n",
    "def func_chain(*args):\n",
    "    def result_func(val):\n",
    "        result = val\n",
    "        for func in args:\n",
    "            result = func(result)\n",
    "        return result\n",
    "    return result_func\n",
    "\n",
    "my_chain = func_chain(lambda x: x + 2, lambda x: (x/4, x//4))\n",
    "\n",
    "my_chain(37)"
   ]
  },
  {
   "cell_type": "code",
   "execution_count": 51,
   "metadata": {},
   "outputs": [
    {
     "data": {
      "text/plain": [
       "[1.0, 8.0, 27.0, 64.0, 125.0]"
      ]
     },
     "execution_count": 51,
     "metadata": {},
     "output_type": "execute_result"
    }
   ],
   "source": [
    "def sequential_map_2(*args):\n",
    "    funcs = args[:-1]\n",
    "    vals = args[-1]\n",
    "    func = func_chain(*funcs)\n",
    "    return list(func(vals))\n",
    "\n",
    "sequential_map_2(np.square, np.sqrt, lambda x: x**3, [1, 2, 3, 4, 5])"
   ]
  },
  {
   "cell_type": "code",
   "execution_count": null,
   "metadata": {},
   "outputs": [],
   "source": [
    "\"\"\"Task 5.\n",
    "Реализовать функцию  multiple_partial - аналог функции partial, но которая принимает \n",
    "неограниченное число функций в качестве аргументов и возвращает список из такого же \n",
    "числа \"частичных функций\". Не используйте саму функцию partial. \n",
    "Например: ax1_mean, ax1_max, ax1_sum = multiple_partial(np.mean, np.max, np.sum, axis=1)\"\"\"\n",
    "\n",
    "def single_partial(func, **kwargs):\n",
    "    def inner_func(*args_by_user):\n",
    "        return func(*args_by_user, **kwargs)\n",
    "    return inner_func\n",
    "\n",
    "def multiple_partial(*funcs, **kwargs):\n",
    "    result = [single_partial(func, **kwargs) for func in funcs]\n",
    "    return result"
   ]
  },
  {
   "cell_type": "code",
   "execution_count": 53,
   "metadata": {},
   "outputs": [],
   "source": [
    "\"\"\"Task 6.\n",
    "Задание на 5 дополнительных балла:\n",
    "Реализуйте полный аналог функции print без использования её самой (без аргумента flush).\n",
    "В этом деле вам может помочь встроенный модуль sys.\"\"\"\n",
    "\n",
    "import sys\n",
    "\n",
    "def print_analogue(*args, end=\"\\n\", sep=\" \", file=sys.stdout):\n",
    "    parts_to_type = [str(x) for x in args]\n",
    "    all_parts = sep.join(parts_to_type)\n",
    "    file.write(f'{all_parts}{end}')"
   ]
  }
 ],
 "metadata": {
  "kernelspec": {
   "display_name": "Python 3.10.6 64-bit",
   "language": "python",
   "name": "python3"
  },
  "language_info": {
   "codemirror_mode": {
    "name": "ipython",
    "version": 3
   },
   "file_extension": ".py",
   "mimetype": "text/x-python",
   "name": "python",
   "nbconvert_exporter": "python",
   "pygments_lexer": "ipython3",
   "version": "3.10.6"
  },
  "orig_nbformat": 4,
  "vscode": {
   "interpreter": {
    "hash": "916dbcbb3f70747c44a77c7bcd40155683ae19c65e1c03b4aa3499c5328201f1"
   }
  }
 },
 "nbformat": 4,
 "nbformat_minor": 2
}
