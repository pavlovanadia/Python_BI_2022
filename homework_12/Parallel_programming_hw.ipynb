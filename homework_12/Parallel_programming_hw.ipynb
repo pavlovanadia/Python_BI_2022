{
 "cells": [
  {
   "cell_type": "markdown",
   "id": "807eeb67-c734-4bd7-87aa-573d1d55366d",
   "metadata": {},
   "source": [
    "В формулировке заданий будет использоваться понятие **worker**. Это слово обозначает какую-то единицу параллельного выполнения, в случае питона это может быть **поток** или **процесс**, выбирайте то, что лучше будет подходить к конкретной задаче"
   ]
  },
  {
   "cell_type": "markdown",
   "id": "6d3b4f3a-f226-4ea4-a39f-dfb6e45bd983",
   "metadata": {},
   "source": [
    "# Задание 1 (7 баллов)"
   ]
  },
  {
   "cell_type": "markdown",
   "id": "ba5a5046-e619-4e55-8a36-f0e72f7f8d4a",
   "metadata": {},
   "source": [
    "В одном из заданий по ML от вас требовалось написать кастомную реализацию Random Forest. Её проблема состоит в том, что она работает медленно, так как использует всего один поток для работы. Добавление параллельного программирования в код позволит получить существенный прирост в скорости обучения и предсказаний.\n",
    "\n",
    "В данном задании от вас требуется добавить возможность обучать случайный лес параллельно и использовать параллелизм для предсказаний. Для этого вам понадобится:\n",
    "1. Добавить аргумент `n_jobs` в метод `fit`. `n_jobs` показывает количество worker'ов, используемых для распараллеливания\n",
    "2. Добавить аргумент `n_jobs` в методы `predict` и `predict_proba`\n",
    "3. Реализовать функционал по распараллеливанию в данных методах\n",
    "\n",
    "В результате код `random_forest.fit(X, y, n_jobs=2)` и `random_forest.predict(X, y, n_jobs=2)` должен работать в ~1.5-2 раза быстрее, чем `random_forest.fit(X, y, n_jobs=1)` и `random_forest.predict(X, y, n_jobs=1)` соответственно\n",
    "\n",
    "Если у вас по каким-то причинам нет кода случайного леса из ДЗ по ML, то вы можете написать его заново или попросить у однокурсника. *Детали* реализации ML части оцениваться не будут, НО, если вы поломаете логику работы алгоритма во время реализации параллелизма, то за это будут сниматься баллы\n",
    "\n",
    "В задании можно использовать только модули из **стандартной библиотеки** питона, а также функции и классы из **sklearn** при помощи которых вы изначально писали лес"
   ]
  },
  {
   "cell_type": "code",
   "execution_count": 1,
   "id": "92e934b3",
   "metadata": {},
   "outputs": [],
   "source": [
    "from typing import Tuple, Any, Callable, Optional, Union, List"
   ]
  },
  {
   "cell_type": "code",
   "execution_count": 2,
   "id": "af9d8b2d-3b0f-4789-a5f3-dfad537c916e",
   "metadata": {},
   "outputs": [],
   "source": [
    "import numpy as np\n",
    "import threading\n",
    "from concurrent.futures import ThreadPoolExecutor\n",
    "from sklearn.base import BaseEstimator\n",
    "from sklearn.datasets import make_classification\n",
    "from sklearn.tree import DecisionTreeClassifier\n",
    "\n",
    "class RandomForestClassifierCustom(BaseEstimator):\n",
    "    \"\"\"\n",
    "    A Random Forest Classifier.\n",
    "\n",
    "    ...\n",
    "\n",
    "    Attributes\n",
    "    ----------\n",
    "    n_estimators : int\n",
    "        Number of trees in a forest, 10 by default.\n",
    "    max_depth : int\n",
    "        Maximum depth of trees, None by default.\n",
    "    max_features : int\n",
    "        Maximum feature number to split a node, None by default.\n",
    "    random_state : int\n",
    "        Random state, 111 by default.\n",
    "    trees : list(DecisionTreeClassifier)\n",
    "        List to save all classifiers of the forest.\n",
    "    feat_ids_by_tree: list(np.ndarray)\n",
    "        List to save feature ids of each tree.\n",
    "    \n",
    "    Methods\n",
    "    -------\n",
    "    __init__(self, n_estimators, max_depth, max_features, random_state)\n",
    "        Constructs all the necessary attributes for the class object.\n",
    "\n",
    "        Parameters\n",
    "        ----------\n",
    "        n_estimators : int\n",
    "            Number of estimators, 10 by default.\n",
    "        max_depth : int\n",
    "            Maximum depth of a single tree, None by default.\n",
    "        max_features : int\n",
    "            Maximum feature number for a single tree, None by default.\n",
    "        random_state : int\n",
    "            Random state, 111 by default.\n",
    "\n",
    "    fit(self, X, y, n_jobs)\n",
    "        Trains model on the data given. \n",
    "\n",
    "        Parameters\n",
    "        ----------\n",
    "        X : np.ndarray\n",
    "            Array of training features.\n",
    "        y : np.ndarray\n",
    "            Array of train targets.\n",
    "        n_jobs : int\n",
    "            Number of parallel processes, 1 by default.\n",
    "\n",
    "        Returns\n",
    "        -------\n",
    "        RandomForestClassifierCustom object\n",
    "            Fitted random forest.\n",
    "\n",
    "    predict_proba(self, X, n_jobs)\n",
    "        Predicts probabilities of given X to belong to each class.\n",
    "\n",
    "        Parameters\n",
    "        ----------\n",
    "        X : np.ndarray\n",
    "            Array of test features.\n",
    "        n_jobs : int\n",
    "            Number of parallel processes, 1 by default.\n",
    "\n",
    "        Returns\n",
    "        -------\n",
    "        np.ndarray object\n",
    "            Predicted probabilities of belonging to each class.\n",
    "\n",
    "    predict(self, X, n_jobs)\n",
    "        Predicts the class of each X observation.\n",
    "\n",
    "        Parameters\n",
    "        ----------\n",
    "        X : np.ndarray\n",
    "            Array of test features.\n",
    "        n_jobs : int\n",
    "            Number of parallel processes, 1 by default.\n",
    "\n",
    "        Returns\n",
    "        -------\n",
    "        np.ndarray object\n",
    "            Predicted class labels.\n",
    "    \"\"\"\n",
    "    def __init__(self, \n",
    "                 n_estimators: int = 10, \n",
    "                 max_depth: int = None, \n",
    "                 max_features: int = None, \n",
    "                 random_state: int = 111):\n",
    "        \"\"\"\n",
    "        Constructs all the necessary attributes for the class object.\n",
    "\n",
    "        Parameters\n",
    "        ----------\n",
    "        n_estimators : int\n",
    "            Number of estimators, 10 by default.\n",
    "        max_depth : int\n",
    "            Maximum depth of a single tree, None by default.\n",
    "        max_features : int\n",
    "            Maximum feature number for a single tree, None by default.\n",
    "        random_state : int\n",
    "            Random state, 111 by default.\n",
    "        \"\"\"\n",
    "        self.n_estimators = n_estimators\n",
    "        self.max_depth = max_depth\n",
    "        self.max_features = max_features\n",
    "        self.random_state = random_state\n",
    "\n",
    "        self.trees: List[DecisionTreeClassifier] = [] # точно ли тут нужен тупинг?\n",
    "        self.feat_ids_by_tree: List[np.ndarray] = [] # и тут тоже?\n",
    "\n",
    "    def fit(self, \n",
    "            X: np.ndarray, \n",
    "            y: np.ndarray, \n",
    "            n_jobs: int = 1) -> 'RandomForestClassifierCustom':\n",
    "        \"\"\"\n",
    "        Trains model on the data given.\n",
    "\n",
    "        Parameters\n",
    "        ----------\n",
    "        X : np.ndarray\n",
    "            Array of training samples.\n",
    "        y : np.ndarray\n",
    "            Array of train targets.\n",
    "        n_jobs : int\n",
    "            Number of parallel processes, 1 by default.\n",
    "\n",
    "        Returns\n",
    "        -------\n",
    "        RandomForestClassifierCustom object\n",
    "            Fitted random forest.\n",
    "        \"\"\"\n",
    "        self.classes_ = sorted(np.unique(y))\n",
    "\n",
    "        def fit_tree(tree_num: int) -> Tuple[DecisionTreeClassifier, np.ndarray]:\n",
    "            \"\"\"\n",
    "            Fits a single tree of a forest.\n",
    "\n",
    "            Parameters\n",
    "            ----------\n",
    "            tree_num : int\n",
    "                Number of the tree.\n",
    "            \n",
    "            Returns\n",
    "            -------\n",
    "            tuple(DecisionTreeClassifier, np.ndarray)\n",
    "                Tuple of tree and features if was fit on.\n",
    "            \"\"\"\n",
    "            rng = np.random.default_rng(seed=self.random_state + tree_num)\n",
    "            mx_ftrs = rng.choice(X.shape[1], self.max_features, replace=False)\n",
    "            psample = rng.choice(X.shape[0], X.shape[0] // 2, replace=True)\n",
    "            psample_X = X[np.ix_(psample, mx_ftrs)]\n",
    "            psample_y = y[psample]\n",
    "\n",
    "            mdl = DecisionTreeClassifier(max_depth=self.max_depth,\n",
    "                                         max_features=self.max_features,\n",
    "                                         random_state=self.random_state)\n",
    "            mdl.fit(psample_X, psample_y)\n",
    "            return mdl, mx_ftrs \n",
    "\n",
    "        with ThreadPoolExecutor(max_workers=n_jobs) as executor: # ????? do i need typing here????\n",
    "            tree_data = list(executor.map(fit_tree, range(self.n_estimators)))\n",
    "\n",
    "        self.trees, self.feat_ids_by_tree = zip(*tree_data)\n",
    "\n",
    "        return self\n",
    "\n",
    "    def predict_proba(self, \n",
    "                      X: np.ndarray, \n",
    "                      n_jobs: int = 1) -> np.ndarray:\n",
    "        \"\"\"\n",
    "        Predicts probabilities of given X to belong to each class.\n",
    "\n",
    "        Parameters\n",
    "        ----------\n",
    "        X : np.ndarray\n",
    "            Array of test features.\n",
    "        n_jobs : int\n",
    "            Number of parallel processes, 1 by default.\n",
    "\n",
    "        Returns\n",
    "        -------\n",
    "        np.ndarray object\n",
    "            Predicted probabilities of belonging to each class.\n",
    "        \"\"\"\n",
    "        def tree_proba(tree_num: int) -> np.ndarray:\n",
    "            \"\"\"\n",
    "            Calculates probabilities of observations to belong to each class\n",
    "            with all trees in forest.\n",
    "\n",
    "            Parameters\n",
    "            ----------\n",
    "            tree_num : int\n",
    "                Number of the tree.\n",
    "\n",
    "            Returns\n",
    "            -------\n",
    "            np.ndarray object\n",
    "                Probabilities of oobservations to belong to each class.\n",
    "            \"\"\"\n",
    "            return self.trees[tree_num].predict_proba(X[:, self.feat_ids_by_tree[tree_num]])\n",
    "\n",
    "        with ThreadPoolExecutor(max_workers=n_jobs) as executor:\n",
    "            y_proba = list(executor.map(tree_proba, range(self.n_estimators)))\n",
    "\n",
    "        return np.array(y_proba).mean(axis=0)\n",
    "\n",
    "    def predict(self, \n",
    "                X: np.ndarray, \n",
    "                n_jobs: int = 1) -> np.ndarray:\n",
    "        \"\"\"\n",
    "        Predicts the class of each X observation.\n",
    "\n",
    "        Parameters\n",
    "        ----------\n",
    "        X : np.ndarray\n",
    "            Array of test features.\n",
    "        n_jobs : int\n",
    "            Number of parallel processes, 1 by default.\n",
    "\n",
    "        Returns\n",
    "        -------\n",
    "        np.ndarray object\n",
    "            Predicted class labels.\n",
    "        \"\"\"\n",
    "        probas = self.predict_proba(X, n_jobs=n_jobs)\n",
    "        predictions = np.argmax(probas, axis=1)\n",
    "\n",
    "        return predictions\n",
    "    \n",
    "\n",
    "X, y = make_classification(n_samples=100000)"
   ]
  },
  {
   "cell_type": "code",
   "execution_count": 3,
   "id": "5eecd633-1ae5-49fb-8cd0-4fd4ec1d6c24",
   "metadata": {},
   "outputs": [],
   "source": [
    "random_forest = RandomForestClassifierCustom(max_depth=30, n_estimators=10, max_features=2, random_state=42)"
   ]
  },
  {
   "cell_type": "code",
   "execution_count": 4,
   "id": "4424d0b0",
   "metadata": {},
   "outputs": [
    {
     "name": "stdout",
     "output_type": "stream",
     "text": [
      "CPU times: user 2.94 s, sys: 0 ns, total: 2.94 s\n",
      "Wall time: 2.94 s\n"
     ]
    }
   ],
   "source": [
    "%%time\n",
    "\n",
    "_ = random_forest.fit(X, y, n_jobs=1)"
   ]
  },
  {
   "cell_type": "code",
   "execution_count": 5,
   "id": "b0c0a91d",
   "metadata": {},
   "outputs": [
    {
     "name": "stdout",
     "output_type": "stream",
     "text": [
      "CPU times: user 199 ms, sys: 0 ns, total: 199 ms\n",
      "Wall time: 198 ms\n"
     ]
    }
   ],
   "source": [
    "%%time\n",
    "\n",
    "preds_1 = random_forest.predict(X, n_jobs=1)"
   ]
  },
  {
   "cell_type": "code",
   "execution_count": 6,
   "id": "a4696384-b02b-4195-8ca7-60ae55aed197",
   "metadata": {},
   "outputs": [],
   "source": [
    "random_forest = RandomForestClassifierCustom(max_depth=30, n_estimators=10, max_features=2, random_state=42)"
   ]
  },
  {
   "cell_type": "code",
   "execution_count": 7,
   "id": "5994a9ff",
   "metadata": {},
   "outputs": [
    {
     "name": "stdout",
     "output_type": "stream",
     "text": [
      "CPU times: user 3.01 s, sys: 0 ns, total: 3.01 s\n",
      "Wall time: 1.62 s\n"
     ]
    }
   ],
   "source": [
    "%%time\n",
    "\n",
    "_ = random_forest.fit(X, y, n_jobs=2)"
   ]
  },
  {
   "cell_type": "code",
   "execution_count": 8,
   "id": "58b8a4af",
   "metadata": {},
   "outputs": [
    {
     "name": "stdout",
     "output_type": "stream",
     "text": [
      "CPU times: user 216 ms, sys: 0 ns, total: 216 ms\n",
      "Wall time: 113 ms\n"
     ]
    }
   ],
   "source": [
    "%%time\n",
    "\n",
    "preds_2 = random_forest.predict(X, n_jobs=2)"
   ]
  },
  {
   "cell_type": "code",
   "execution_count": 9,
   "id": "547ba1fd-9535-4267-93f8-3cc927f71e03",
   "metadata": {},
   "outputs": [
    {
     "data": {
      "text/plain": [
       "True"
      ]
     },
     "execution_count": 9,
     "metadata": {},
     "output_type": "execute_result"
    }
   ],
   "source": [
    "(preds_1 == preds_2).all()   # Количество worker'ов не должно влиять на предсказания"
   ]
  },
  {
   "cell_type": "markdown",
   "id": "0a2ea6af-f73d-436a-94d9-f7310ac9a4e6",
   "metadata": {},
   "source": [
    "#### Какие есть недостатки у вашей реализации параллельного Random Forest (если они есть)? Как это можно исправить? Опишите словами, можно без кода (+1 дополнительный балл)"
   ]
  },
  {
   "cell_type": "markdown",
   "id": "19f2f04d-2c35-4d7d-a8fe-7f88d538fb79",
   "metadata": {},
   "source": [
    "Ответ пишите тут"
   ]
  },
  {
   "cell_type": "markdown",
   "id": "f020bb22-a29e-4e39-aba9-d41e79a80732",
   "metadata": {},
   "source": [
    "# Задание 2 (9 баллов)"
   ]
  },
  {
   "cell_type": "markdown",
   "id": "e3a8a0d2-f35b-4edb-9fb3-61da119255e9",
   "metadata": {},
   "source": [
    "Напишите декоратор `memory_limit`, который позволит ограничивать использование памяти декорируемой функцией.\n",
    "\n",
    "Декоратор должен принимать следующие аргументы:\n",
    "1. `soft_limit` - \"мягкий\" лимит использования памяти. При превышении функцией этого лимита должен будет отображён **warning**\n",
    "2. `hard_limit` - \"жёсткий\" лимит использования памяти. При превышении функцией этого лимита должно будет брошено исключение, а функция должна немедленно завершить свою работу\n",
    "3. `poll_interval` - интервал времени (в секундах) между проверками использования памяти\n",
    "\n",
    "Требования:\n",
    "1. Потребление функцией памяти должно отслеживаться **во время выполнения функции**, а не после её завершения\n",
    "2. **warning** при превышении `soft_limit` должен отображаться один раз, даже если функция переходила через этот лимит несколько раз\n",
    "3. Если задать `soft_limit` или `hard_limit` как `None`, то соответствующий лимит должен быть отключён\n",
    "4. Лимиты должны передаваться и отображаться в формате `<number>X`, где `X` - символ, обозначающий порядок единицы измерения памяти (\"B\", \"K\", \"M\", \"G\", \"T\", ...)\n",
    "5. В тексте warning'ов и исключений должен быть указан текщий объём используемой памяти и величина превышенного лимита\n",
    "\n",
    "В задании можно использовать только модули из **стандартной библиотеки** питона, можно писать вспомогательные функции и/или классы\n",
    "\n",
    "В коде ниже для вас предопределены некоторые полезные функции, вы можете ими пользоваться, а можете не пользоваться"
   ]
  },
  {
   "cell_type": "code",
   "execution_count": 10,
   "id": "76e25fe5",
   "metadata": {},
   "outputs": [],
   "source": [
    "import os\n",
    "import psutil\n",
    "import time\n",
    "import warnings\n",
    "import concurrent.futures\n",
    "from functools import wraps\n",
    "import signal\n",
    "import threading\n",
    "from queue import Queue\n",
    "\n",
    "def get_memory_usage() -> int:\n",
    "    \"\"\"\n",
    "    Gets the actual memory usage of a process.\n",
    "    \n",
    "    Returns\n",
    "    -------\n",
    "    int\n",
    "        The actual memory usage (bytes).\n",
    "    \"\"\"\n",
    "    process = psutil.Process(os.getpid())\n",
    "    mem_info = process.memory_info()\n",
    "    return mem_info.rss\n",
    "\n",
    "\n",
    "def bytes_to_human_readable(n_bytes: int) -> str: \n",
    "    \"\"\"\n",
    "    Converts bytes to a human readable format.\n",
    "    \n",
    "    Parameters\n",
    "    ----------\n",
    "    n_bytes : int\n",
    "        The bytes number.\n",
    "    \n",
    "    Returns\n",
    "    -------\n",
    "    str\n",
    "        A human readable representation of bytes.\n",
    "    \"\"\"\n",
    "    symbols = ('K', 'M', 'G', 'T', 'P', 'E', 'Z', 'Y')\n",
    "    prefix = {}\n",
    "    for idx, s in enumerate(symbols):\n",
    "        prefix[s] = 1 << (idx + 1) * 10\n",
    "    for s in reversed(symbols):\n",
    "        if n_bytes >= prefix[s]:\n",
    "            value = float(n_bytes) / prefix[s]\n",
    "            return f\"{value:.2f}{s}\"\n",
    "    return f\"{n_bytes}B\"\n",
    "\n",
    "\n",
    "def human_readable_to_bytes(human_readable: str) -> int:\n",
    "    \"\"\"\n",
    "    Converts human readable to bytes.\n",
    "    \n",
    "    Parameters\n",
    "    ----------\n",
    "    human_readable : str\n",
    "        Number of bytes.\n",
    "    \n",
    "    Returns\n",
    "    -------\n",
    "    int\n",
    "        The number of bytes.\n",
    "    \"\"\"\n",
    "    symbols = ('K', 'M', 'G', 'T', 'P', 'E', 'Z', 'Y')\n",
    "    number = float(human_readable[:-1])\n",
    "    symbol = human_readable[-1]\n",
    "    if symbol in symbols:\n",
    "        return int(number * (1 << (symbols.index(symbol) + 1) * 10))\n",
    "    return int(number)\n",
    "\n",
    "def memory_check_function(\n",
    "        soft_limit: Optional[int], \n",
    "        hard_limit: Optional[int], \n",
    "        poll_interval: float, \n",
    "        control_queue: Queue) -> Optional[str]:\n",
    "    \"\"\"\n",
    "    Checks if the memory usage exceeds the limits.\n",
    "    \n",
    "    Parameters\n",
    "    ----------\n",
    "    soft_limit : Optional[int]\n",
    "        Soft memory limit.\n",
    "    hard_limit : Optional[int]\n",
    "        Hard memory limit.\n",
    "    poll_interval : float\n",
    "        The time interval between checks.\n",
    "    control_queue : Queue\n",
    "        A queue to control when to stop the checks.\n",
    "    \n",
    "    Returns\n",
    "    -------\n",
    "    Optional[str]\n",
    "        Was the hard limit exceeded or not.\n",
    "    \"\"\"\n",
    "    soft_limit_warning_shown = False\n",
    "    while True:\n",
    "        if not control_queue.empty():\n",
    "            break\n",
    "        mem_usage = get_memory_usage()\n",
    "        if soft_limit and (mem_usage > soft_limit) and not soft_limit_warning_shown:\n",
    "            soft_limit_warning_shown = True\n",
    "            warnings.warn(f\"Warning! Memory usage exceeded soft limit ({bytes_to_human_readable(mem_usage)} > {bytes_to_human_readable(soft_limit)})\")\n",
    "        if hard_limit and (mem_usage > hard_limit):\n",
    "            return 'hard_limit_exceeded'\n",
    "        time.sleep(poll_interval)\n",
    "    return None\n",
    "\n",
    "class MemoryLimitExceeded(Exception):\n",
    "    \"\"\"\n",
    "    exception class to handle for situation when usage exceeds the hard limit.\n",
    "    \"\"\"\n",
    "    pass\n",
    "\n",
    "def memory_limit(soft_limit: Optional[str] = None, hard_limit: Optional[str] = None, poll_interval: int = 1) -> Callable:\n",
    "    \"\"\"\n",
    "    Decorator to check memory limits for a function.\n",
    "    \n",
    "    Parameters\n",
    "    ----------\n",
    "    soft_limit : Optional[str]\n",
    "        Soft memory limit, human-readable, None by default..\n",
    "    hard_limit : Optional[str]\n",
    "        Hard memory limit, human-readable, None by default..\n",
    "    poll_interval : int\n",
    "        Time interval between memory usage checks, 1 by default..\n",
    "    \n",
    "    Returns\n",
    "    -------\n",
    "    Callable\n",
    "        Wrapped function that checks memory limits.\n",
    "    \"\"\"\n",
    "    def decorator(function: Callable) -> Callable:\n",
    "        \"\"\"\n",
    "        Decorator function that wraps to check memory usage.\n",
    "\n",
    "        Parameters\n",
    "        ----------\n",
    "        function : Callable\n",
    "            The function for wrappimg.\n",
    "\n",
    "        Returns\n",
    "        -------\n",
    "        Callable\n",
    "            Wrapped function with memory usage ckeck.\n",
    "        \"\"\"\n",
    "        @wraps(function)\n",
    "        def wrapper(*args: Any, **kwargs: Any) -> Any:\n",
    "            \"\"\"\n",
    "            Wrapper function that executes the input function and checks its memory usage.\n",
    "            If memory usage exceeds the limits, warnings or exceptions will be raised.\n",
    "\n",
    "            Parameters\n",
    "            ----------\n",
    "            *args : Any\n",
    "                Positional arguments for the input function.\n",
    "            **kwargs : Any\n",
    "                Keyword arguments for the input function.\n",
    "\n",
    "            Returns\n",
    "            -------\n",
    "            Any\n",
    "                Value of input function.\n",
    "            \"\"\"\n",
    "            nonlocal soft_limit, hard_limit \n",
    "\n",
    "            def memory_check() -> None: \n",
    "                \"\"\"\n",
    "                Monitors memory usage of process and checks if it exceeds the soft or hard limits.\n",
    "                \"\"\"\n",
    "                nonlocal soft_limit_warning_shown \n",
    "                while not function_executed:\n",
    "                    mem_usage = get_memory_usage() # how much memory is used\n",
    "                    if soft_limit and (mem_usage > soft_limit) and not soft_limit_warning_shown:\n",
    "                        soft_limit_warning_shown = True\n",
    "                        warnings.warn(f\"Memory usage exceeded soft limit ({bytes_to_human_readable(mem_usage)} > {bytes_to_human_readable(soft_limit)})\")\n",
    "                    if hard_limit and (mem_usage > hard_limit):\n",
    "                        os.kill(os.getpid(), signal.SIGUSR1) # kills the the process\n",
    "                    time.sleep(poll_interval)\n",
    "\n",
    "            def handle_memory_limit_exceeded(signum: int, frame: Any) -> None:\n",
    "                \"\"\"\n",
    "                Handles the signal that occurs when memory usage exceeds hard limit,\n",
    "                raises an exception with a message if so.\n",
    "\n",
    "                Parameters\n",
    "                ----------\n",
    "                signum : int\n",
    "                    Signal number.\n",
    "                frame : Any\n",
    "                    Stack frame when the signal occured.\n",
    "                \"\"\"\n",
    "                raise MemoryLimitExceeded(f\"Memory usage exceeded hard limit ({bytes_to_human_readable(get_memory_usage())} > {bytes_to_human_readable(hard_limit)})\")\n",
    "\n",
    "            soft_limit_warning_shown = False\n",
    "            if soft_limit:\n",
    "                soft_limit = human_readable_to_bytes(soft_limit)\n",
    "            if hard_limit:\n",
    "                hard_limit = human_readable_to_bytes(hard_limit)\n",
    "\n",
    "            signal.signal(signal.SIGUSR1, handle_memory_limit_exceeded) # takes the signal and calls the handle fnction\n",
    "            function_executed = False\n",
    "            monitor_thread = threading.Thread(target=memory_check)\n",
    "            monitor_thread.daemon = True\n",
    "            monitor_thread.start()\n",
    "\n",
    "            try:\n",
    "                result = function(*args, **kwargs)\n",
    "            except MemoryLimitExceeded as e:\n",
    "                print(e)\n",
    "                result = None\n",
    "            finally:\n",
    "                function_executed = True\n",
    "\n",
    "            return result\n",
    "        return wrapper\n",
    "    return decorator\n"
   ]
  },
  {
   "cell_type": "code",
   "execution_count": 11,
   "id": "e5466565-e46c-425e-a7bc-556a13633a0d",
   "metadata": {},
   "outputs": [
    {
     "name": "stderr",
     "output_type": "stream",
     "text": [
      "/tmp/ipykernel_6136/333202410.py:177: UserWarning: Memory usage exceeded soft limit (209.34M > 100.00M)\n",
      "  warnings.warn(f\"Memory usage exceeded soft limit ({bytes_to_human_readable(mem_usage)} > {bytes_to_human_readable(soft_limit)})\")\n"
     ]
    },
    {
     "name": "stdout",
     "output_type": "stream",
     "text": [
      "Memory usage exceeded hard limit (1001.16M > 1000.00M)\n"
     ]
    }
   ],
   "source": [
    "@memory_limit(soft_limit=\"100M\", hard_limit=\"1000M\", poll_interval=0.1)\n",
    "def memory_increment() -> List[int]:\n",
    "    \"\"\"\n",
    "    Функция для тестирования\n",
    "    \n",
    "    В течение нескольких секунд достигает использования памяти 1.89G\n",
    "    Потребление памяти и скорость накопления можно варьировать, изменяя код\n",
    "\n",
    "    Returns\n",
    "    -------\n",
    "    list\n",
    "    \"\"\"\n",
    "    lst = []\n",
    "    for i in range(50000000):\n",
    "        if i % 500000 == 0:\n",
    "            time.sleep(0.1)\n",
    "        lst.append(i)\n",
    "    return lst\n",
    "\n",
    "_ = memory_increment()\n"
   ]
  },
  {
   "cell_type": "markdown",
   "id": "4bf0a185-3fd7-4d48-bfeb-cf6ce8b12893",
   "metadata": {},
   "source": [
    "# Задание 3 (11 баллов)"
   ]
  },
  {
   "cell_type": "markdown",
   "id": "77eec6f5-3d52-43fc-b241-9114eb9c813c",
   "metadata": {},
   "source": [
    "Напишите функцию `parallel_map`. Это должна быть **универсальная** функция для распараллеливания, которая эффективно работает в любых условиях.\n",
    "\n",
    "Функция должна принимать следующие аргументы:\n",
    "1. `target_func` - целевая функция (обязательный аргумент)\n",
    "2. `args_container` - контейнер с позиционными аргументами для `target_func` (по-умолчанию `None` - позиционные аргументы не передаются)\n",
    "3. `kwargs_container` - контейнер с именованными аргументами для `target_func` (по-умолчанию `None` - именованные аргументы не передаются)\n",
    "4. `n_jobs` - количество workers, которые будут использованы для выполнения (по-умолчанию `None` - количество логических ядер CPU в системе)\n",
    "\n",
    "Функция должна работать аналогично `***PoolExecutor.map`, применяя функцию к переданному набору аргументов, но с некоторыми дополнениями и улучшениями\n",
    "    \n",
    "Поскольку мы пишем **универсальную** функцию, то нам нужно будет выполнить ряд требований, чтобы она могла логично и эффективно работать в большинстве ситуаций\n",
    "\n",
    "1. `target_func` может принимать аргументы любого вида в любом количестве\n",
    "2. Любые типы данных в `args_container`, кроме `tuple`, передаются в `target_func` как единственный позиционный аргумент. `tuple` распаковываются в несколько аргументов\n",
    "3. Количество элементов в `args_container` должно совпадать с количеством элементов в `kwargs_container` и наоборот, также значение одного из них или обоих может быть равно `None`, в иных случаях должна кидаться ошибка (оба аргумента переданы, но размеры не совпадают)\n",
    "\n",
    "4. Функция должна выполнять определённое количество параллельных вызовов `target_func`, это количество зависит от числа переданных аргументов и значения `n_jobs`. Сценарии могут быть следующие\n",
    "    + `args_container=None`, `kwargs_container=None`, `n_jobs=None`. В таком случае функция `target_func` выполнится параллельно столько раз, сколько на вашем устройстве логических ядер CPU\n",
    "    + `args_container=None`, `kwargs_container=None`, `n_jobs=5`. В таком случае функция `target_func` выполнится параллельно **5** раз\n",
    "    + `args_container=[1, 2, 3]`, `kwargs_container=None`, `n_jobs=5`. В таком случае функция `target_func` выполнится параллельно **3** раза, несмотря на то, что `n_jobs=5` (так как есть всего 3 набора аргументов для которых нам нужно получить результат, а лишние worker'ы создавать не имеет смысла)\n",
    "    + `args_container=None`, `kwargs_container=[{\"s\": 1}, {\"s\": 2}, {\"s\": 3}]`, `n_jobs=5`. Данный случай аналогичен предыдущему, но здесь мы используем именованные аргументы\n",
    "    + `args_container=[1, 2, 3]`, `kwargs_container=[{\"s\": 1}, {\"s\": 2}, {\"s\": 3}]`, `n_jobs=5`. Данный случай аналогичен предыдущему, но здесь мы используем и позиционные, и именованные аргументы\n",
    "    + `args_container=[1, 2, 3, 4]`, `kwargs_container=None`, `n_jobs=2`. В таком случае в каждый момент времени параллельно будет выполняться **не более 2** функций `target_func`, так как нам нужно выполнить её 4 раза, но у нас есть только 2 worker'а.\n",
    "    + В подобных случаях (из примера выше) должно оптимизироваться время выполнения. Если эти 4 вызова выполняются за 5, 1, 2 и 1 секунды, то параллельное выполнение с `n_jobs=2` должно занять **5 секунд** (не 7 и тем более не 10)\n",
    "\n",
    "5. `parallel_map` возвращает результаты выполнения `target_func` **в том же порядке**, в котором были переданы соответствующие аргументы\n",
    "6. Работает с функциями, созданными внутри других функций\n",
    "\n",
    "Для базового решения от вас не ожидается **сверххорошая** оптимизация по времени и памяти для всех возможных случаев. Однако за хорошо оптимизированную логику работы можно получить до **+3 дополнительных баллов**\n",
    "\n",
    "Вы можете сделать класс вместо функции, если вам удобнее\n",
    "\n",
    "В задании можно использовать только модули из **стандартной библиотеки** питона\n",
    "\n",
    "Ниже приведены тестовые примеры по каждому из требований"
   ]
  },
  {
   "cell_type": "code",
   "execution_count": 12,
   "id": "137f780b",
   "metadata": {},
   "outputs": [],
   "source": [
    "import itertools"
   ]
  },
  {
   "cell_type": "code",
   "execution_count": 13,
   "id": "a917005b-bc1e-4229-9eef-d33bfe7050c2",
   "metadata": {},
   "outputs": [],
   "source": [
    "from typing import Callable, List, Tuple, Dict, Any, Optional, Union\n",
    "\n",
    "def parallel_map(target_func: Callable[..., Any],\n",
    "                 args_container: Optional[Union[List[Tuple], Tuple]] = None,\n",
    "                 kwargs_container: Optional[List[Dict[str, Any]]] = None,\n",
    "                 n_jobs: Optional[int] = None) -> List[Any]:\n",
    "    \"\"\"\n",
    "    Puts args and kwargs in function.\n",
    "\n",
    "    Parameters\n",
    "    ----------\n",
    "    target_func : Callable[..., Any]\n",
    "        The function to be executed.\n",
    "    args_container : Optional[Union[List[Tuple], Tuple]]\n",
    "        List of tuples with args, None by default.\n",
    "    kwargs_container : Optional[List[Dict[str, Any]]]\n",
    "        List of dictionaries with kwargs, None by default.\n",
    "    n_jobs : Optional[int]\n",
    "        The number of threads, None by default.\n",
    "\n",
    "    Returns\n",
    "    -------\n",
    "    List[Any]\n",
    "        List of results of function with arguments and keyword arguments.\n",
    "    \"\"\"\n",
    "    \n",
    "    if n_jobs is None:\n",
    "        n_jobs = os.cpu_count()\n",
    "\n",
    "    if args_container is None and kwargs_container is None:\n",
    "        args_container = [tuple() for _ in range(n_jobs)]\n",
    "\n",
    "    if args_container is None:\n",
    "        args_container = list(itertools.repeat(tuple(), len(kwargs_container)))\n",
    "\n",
    "    if kwargs_container is None:\n",
    "        kwargs_container = list(itertools.repeat(dict(), len(args_container)))\n",
    "\n",
    "    if len(args_container) != len(kwargs_container):\n",
    "        raise ValueError(\"Lengths of args_container and kwargs_container must match.\")\n",
    "\n",
    "    tasks = zip((tuple([arg]) if not isinstance(arg, tuple) else arg for arg in args_container), kwargs_container)\n",
    "\n",
    "    def apply_args_and_kwargs(args: Tuple, kwargs: Dict[str, Any]) -> Any:\n",
    "        \"\"\"\n",
    "        Applies the target function to on set of args and kwargs.\n",
    "\n",
    "        Parameters\n",
    "        ----------\n",
    "        args : Tuple\n",
    "            Positional arguments to be passed to function.\n",
    "        kwargs : Dict[str, Any]\n",
    "            Keyword arguments to be passed to function.\n",
    "\n",
    "        Returns\n",
    "        -------\n",
    "        Any\n",
    "            Result of function executing with args and kwargs.\n",
    "        \"\"\"\n",
    "        return target_func(*args, **kwargs)\n",
    "\n",
    "    with concurrent.futures.ThreadPoolExecutor(max_workers=n_jobs) as executor: \n",
    "        futures = [executor.submit(apply_args_and_kwargs, args, kwargs) for args, kwargs in tasks] \n",
    "        results = [future.result() for future in futures] \n",
    "\n",
    "    return results"
   ]
  },
  {
   "cell_type": "code",
   "execution_count": 14,
   "id": "0f41b1c8-0d26-483e-8114-1e7638006e34",
   "metadata": {},
   "outputs": [],
   "source": [
    "import time\n",
    "\n",
    "\n",
    "# Это только один пример тестовой функции, ваша parallel_map должна уметь эффективно работать с ЛЮБЫМИ функциями\n",
    "# Поэтому обязательно протестируйте код на чём-нибудбь ещё\n",
    "def test_func(x: Optional[int] = 1,\n",
    "              s: Optional[int] = 2,\n",
    "              a: Optional[int] = 1,\n",
    "              b: Optional[int] = 1,\n",
    "              c: Optional[int] = 1) -> int:\n",
    "    \"\"\"\n",
    "    Quadric equasion.\n",
    "\n",
    "    Parameters\n",
    "    ----------\n",
    "    x : Optional[int]\n",
    "        x, 1 by default.\n",
    "    s : Optional[int]\n",
    "        s, 2 by default.\n",
    "    a : Optional[int]\n",
    "        a, 1 by default.\n",
    "    b : Optional[int]\n",
    "        b, 1 by default.\n",
    "    c : Optional[int]\n",
    "        c, 1 by default.\n",
    "\n",
    "    Returns\n",
    "    -------\n",
    "    int\n",
    "        Some number for function test.\n",
    "    \"\"\"\n",
    "    time.sleep(s)\n",
    "    return a*x**2 + b*x + c"
   ]
  },
  {
   "cell_type": "code",
   "execution_count": 15,
   "id": "e388a035",
   "metadata": {},
   "outputs": [
    {
     "name": "stdout",
     "output_type": "stream",
     "text": [
      "CPU times: user 3.71 ms, sys: 0 ns, total: 3.71 ms\n",
      "Wall time: 2 s\n"
     ]
    },
    {
     "data": {
      "text/plain": [
       "[3, 7.0, (-8-3j), 21]"
      ]
     },
     "execution_count": 15,
     "metadata": {},
     "output_type": "execute_result"
    }
   ],
   "source": [
    "%%time\n",
    "\n",
    "# Пример 2.1\n",
    "# Отдельные значения в args_container передаются в качестве позиционных аргументов\n",
    "parallel_map(test_func, args_container=[1, 2.0, 3j-1, 4])   # Здесь происходят параллельные вызовы: test_func(1) test_func(2.0) test_func(3j-1) test_func(4)"
   ]
  },
  {
   "cell_type": "code",
   "execution_count": 16,
   "id": "63a8a7fb",
   "metadata": {},
   "outputs": [
    {
     "name": "stdout",
     "output_type": "stream",
     "text": [
      "CPU times: user 2.24 ms, sys: 331 µs, total: 2.57 ms\n",
      "Wall time: 3 s\n"
     ]
    },
    {
     "data": {
      "text/plain": [
       "[3, 7.0, (-8-3j), 21]"
      ]
     },
     "execution_count": 16,
     "metadata": {},
     "output_type": "execute_result"
    }
   ],
   "source": [
    "%%time\n",
    "\n",
    "# Пример 2.2\n",
    "# Элементы типа tuple в args_container распаковываются в качестве позиционных аргументов\n",
    "parallel_map(test_func, [(1, 1), (2.0, 2), (3j-1, 3), 4])    # Здесь происходят параллельные вызовы: test_func(1, 1) test_func(2.0, 2) test_func(3j-1, 3) test_func(4)"
   ]
  },
  {
   "cell_type": "code",
   "execution_count": 17,
   "id": "0b35d601",
   "metadata": {},
   "outputs": [
    {
     "name": "stdout",
     "output_type": "stream",
     "text": [
      "CPU times: user 0 ns, sys: 3.77 ms, total: 3.77 ms\n",
      "Wall time: 3.01 s\n"
     ]
    },
    {
     "data": {
      "text/plain": [
       "[3, 7, 13, 21]"
      ]
     },
     "execution_count": 17,
     "metadata": {},
     "output_type": "execute_result"
    }
   ],
   "source": [
    "%%time\n",
    "\n",
    "# Пример 3.1\n",
    "# Возможна одновременная передача args_container и kwargs_container, но количества элементов в них должны быть равны\n",
    "parallel_map(test_func,\n",
    "             args_container=[1, 2, 3, 4],\n",
    "             kwargs_container=[{\"s\": 3}, {\"s\": 3}, {\"s\": 3}, {\"s\": 3}])\n",
    "\n",
    "# Здесь происходят параллельные вызовы: test_func(1, s=3) test_func(2, s=3) test_func(3, s=3) test_func(4, s=3)"
   ]
  },
  {
   "cell_type": "code",
   "execution_count": 18,
   "id": "e6be1b03",
   "metadata": {},
   "outputs": [
    {
     "name": "stdout",
     "output_type": "stream",
     "text": [
      "CPU times: user 3.03 ms, sys: 373 µs, total: 3.4 ms\n",
      "Wall time: 3 s\n"
     ]
    },
    {
     "data": {
      "text/plain": [
       "[3, 3, 3, 3]"
      ]
     },
     "execution_count": 18,
     "metadata": {},
     "output_type": "execute_result"
    }
   ],
   "source": [
    "%%time\n",
    "\n",
    "# Пример 3.2\n",
    "# args_container может быть None, а kwargs_container задан явно\n",
    "parallel_map(test_func,\n",
    "             kwargs_container=[{\"s\": 3}, {\"s\": 3}, {\"s\": 3}, {\"s\": 3}])"
   ]
  },
  {
   "cell_type": "code",
   "execution_count": 19,
   "id": "be3461fe",
   "metadata": {},
   "outputs": [
    {
     "name": "stdout",
     "output_type": "stream",
     "text": [
      "CPU times: user 2.92 ms, sys: 0 ns, total: 2.92 ms\n",
      "Wall time: 2 s\n"
     ]
    },
    {
     "data": {
      "text/plain": [
       "[3, 7, 13, 21]"
      ]
     },
     "execution_count": 19,
     "metadata": {},
     "output_type": "execute_result"
    }
   ],
   "source": [
    "%%time\n",
    "\n",
    "# Пример 3.3\n",
    "# kwargs_container может быть None, а args_container задан явно\n",
    "parallel_map(test_func,\n",
    "             args_container=[1, 2, 3, 4])"
   ]
  },
  {
   "cell_type": "code",
   "execution_count": 21,
   "id": "6debe1ba",
   "metadata": {},
   "outputs": [
    {
     "name": "stdout",
     "output_type": "stream",
     "text": [
      "CPU times: user 0 ns, sys: 3.26 ms, total: 3.26 ms\n",
      "Wall time: 2 s\n"
     ]
    },
    {
     "data": {
      "text/plain": [
       "[3, 3, 3, 3, 3, 3, 3, 3]"
      ]
     },
     "execution_count": 21,
     "metadata": {},
     "output_type": "execute_result"
    }
   ],
   "source": [
    "%%time\n",
    "\n",
    "# Пример 3.4\n",
    "# И kwargs_container, и args_container могут быть не заданы\n",
    "parallel_map(test_func)"
   ]
  },
  {
   "cell_type": "code",
   "execution_count": 22,
   "id": "c0ae4f24",
   "metadata": {},
   "outputs": [
    {
     "ename": "ValueError",
     "evalue": "Lengths of args_container and kwargs_container must match.",
     "output_type": "error",
     "traceback": [
      "\u001b[0;31m---------------------------------------------------------------------------\u001b[0m",
      "\u001b[0;31mValueError\u001b[0m                                Traceback (most recent call last)",
      "File \u001b[0;32m<timed eval>:3\u001b[0m\n",
      "Cell \u001b[0;32mIn[13], line 45\u001b[0m, in \u001b[0;36mparallel_map\u001b[0;34m(target_func, args_container, kwargs_container, n_jobs)\u001b[0m\n\u001b[1;32m     42\u001b[0m     kwargs_container \u001b[39m=\u001b[39m \u001b[39mlist\u001b[39m(itertools\u001b[39m.\u001b[39mrepeat(\u001b[39mdict\u001b[39m(), \u001b[39mlen\u001b[39m(args_container)))\n\u001b[1;32m     44\u001b[0m \u001b[39mif\u001b[39;00m \u001b[39mlen\u001b[39m(args_container) \u001b[39m!=\u001b[39m \u001b[39mlen\u001b[39m(kwargs_container):\n\u001b[0;32m---> 45\u001b[0m     \u001b[39mraise\u001b[39;00m \u001b[39mValueError\u001b[39;00m(\u001b[39m\"\u001b[39m\u001b[39mLengths of args_container and kwargs_container must match.\u001b[39m\u001b[39m\"\u001b[39m)\n\u001b[1;32m     47\u001b[0m tasks \u001b[39m=\u001b[39m \u001b[39mzip\u001b[39m((\u001b[39mtuple\u001b[39m([arg]) \u001b[39mif\u001b[39;00m \u001b[39mnot\u001b[39;00m \u001b[39misinstance\u001b[39m(arg, \u001b[39mtuple\u001b[39m) \u001b[39melse\u001b[39;00m arg \u001b[39mfor\u001b[39;00m arg \u001b[39min\u001b[39;00m args_container), kwargs_container)\n\u001b[1;32m     49\u001b[0m \u001b[39mdef\u001b[39;00m \u001b[39mapply_args_and_kwargs\u001b[39m(args: Tuple, kwargs: Dict[\u001b[39mstr\u001b[39m, Any]) \u001b[39m-\u001b[39m\u001b[39m>\u001b[39m Any:\n",
      "\u001b[0;31mValueError\u001b[0m: Lengths of args_container and kwargs_container must match."
     ]
    }
   ],
   "source": [
    "%%time\n",
    "\n",
    "# Пример 3.5\n",
    "# При несовпадении количеств позиционных и именованных аргументов кидается ошибка\n",
    "parallel_map(test_func,\n",
    "             args_container=[1, 2, 3, 4],\n",
    "             kwargs_container=[{\"s\": 3}, {\"s\": 3}, {\"s\": 3}])"
   ]
  },
  {
   "cell_type": "code",
   "execution_count": 23,
   "id": "cef58bd1",
   "metadata": {},
   "outputs": [
    {
     "name": "stdout",
     "output_type": "stream",
     "text": [
      "CPU times: user 3.1 ms, sys: 342 µs, total: 3.44 ms\n",
      "Wall time: 2 s\n"
     ]
    },
    {
     "data": {
      "text/plain": [
       "[3, 3, 3, 3, 3, 3, 3, 3]"
      ]
     },
     "execution_count": 23,
     "metadata": {},
     "output_type": "execute_result"
    }
   ],
   "source": [
    "%%time\n",
    "\n",
    "# Пример 4.1\n",
    "# Если функция не имеет обязательных аргументов и аргумент n_jobs не был передан, то она выполняется параллельно столько раз, сколько ваш CPU имеет логических ядер\n",
    "# В моём случае это 24, у вас может быть больше или меньше\n",
    "parallel_map(test_func)"
   ]
  },
  {
   "cell_type": "code",
   "execution_count": 24,
   "id": "dc168ff6",
   "metadata": {},
   "outputs": [
    {
     "name": "stdout",
     "output_type": "stream",
     "text": [
      "CPU times: user 1.65 ms, sys: 25 µs, total: 1.68 ms\n",
      "Wall time: 2 s\n"
     ]
    },
    {
     "data": {
      "text/plain": [
       "[3, 3]"
      ]
     },
     "execution_count": 24,
     "metadata": {},
     "output_type": "execute_result"
    }
   ],
   "source": [
    "%%time\n",
    "\n",
    "# Пример 4.2\n",
    "# Если функция не имеет обязательных аргументов и передан только аргумент n_jobs, то она выполняется параллельно n_jobs раз\n",
    "parallel_map(test_func, n_jobs=2)"
   ]
  },
  {
   "cell_type": "code",
   "execution_count": 25,
   "id": "457e3bb1",
   "metadata": {},
   "outputs": [
    {
     "name": "stdout",
     "output_type": "stream",
     "text": [
      "CPU times: user 2 ms, sys: 0 ns, total: 2 ms\n",
      "Wall time: 2 s\n"
     ]
    },
    {
     "data": {
      "text/plain": [
       "[3, 7, 13]"
      ]
     },
     "execution_count": 25,
     "metadata": {},
     "output_type": "execute_result"
    }
   ],
   "source": [
    "%%time\n",
    "\n",
    "# Пример 4.3\n",
    "# Если аргументов для target_func указано МЕНЬШЕ, чем n_jobs, то используется такое же количество worker'ов, сколько было передано аргументов\n",
    "parallel_map(test_func,\n",
    "             args_container=[1, 2, 3],\n",
    "             n_jobs=5)   # Здесь используется 3 worker'a"
   ]
  },
  {
   "cell_type": "code",
   "execution_count": 26,
   "id": "e636c6d1",
   "metadata": {},
   "outputs": [
    {
     "name": "stdout",
     "output_type": "stream",
     "text": [
      "CPU times: user 3.56 ms, sys: 230 µs, total: 3.79 ms\n",
      "Wall time: 3.02 s\n"
     ]
    },
    {
     "data": {
      "text/plain": [
       "[3, 3, 3]"
      ]
     },
     "execution_count": 26,
     "metadata": {},
     "output_type": "execute_result"
    }
   ],
   "source": [
    "%%time\n",
    "\n",
    "# Пример 4.4\n",
    "# Аналогичный предыдущему случай, но с именованными аргументами\n",
    "parallel_map(test_func,\n",
    "             kwargs_container=[{\"s\": 3}, {\"s\": 3}, {\"s\": 3}],\n",
    "             n_jobs=5)   # Здесь используется 3 worker'a"
   ]
  },
  {
   "cell_type": "code",
   "execution_count": 27,
   "id": "63f35bfe",
   "metadata": {},
   "outputs": [
    {
     "name": "stdout",
     "output_type": "stream",
     "text": [
      "CPU times: user 2.7 ms, sys: 418 µs, total: 3.12 ms\n",
      "Wall time: 3 s\n"
     ]
    },
    {
     "data": {
      "text/plain": [
       "[3, 7, 13]"
      ]
     },
     "execution_count": 27,
     "metadata": {},
     "output_type": "execute_result"
    }
   ],
   "source": [
    "%%time\n",
    "\n",
    "# Пример 4.5\n",
    "# Комбинация примеров 4.3 и 4.4 (переданы и позиционные и именованные аргументы)\n",
    "parallel_map(test_func,\n",
    "             args_container=[1, 2, 3],\n",
    "             kwargs_container=[{\"s\": 3}, {\"s\": 3}, {\"s\": 3}],\n",
    "             n_jobs=5)   # Здесь используется 3 worker'a"
   ]
  },
  {
   "cell_type": "code",
   "execution_count": 29,
   "id": "6db87e6d",
   "metadata": {},
   "outputs": [
    {
     "name": "stdout",
     "output_type": "stream",
     "text": [
      "CPU times: user 2.5 ms, sys: 227 µs, total: 2.73 ms\n",
      "Wall time: 4 s\n"
     ]
    },
    {
     "data": {
      "text/plain": [
       "[3, 7, 13, 21]"
      ]
     },
     "execution_count": 29,
     "metadata": {},
     "output_type": "execute_result"
    }
   ],
   "source": [
    "%%time\n",
    "\n",
    "# Пример 4.6\n",
    "# Если аргументов для target_func указано БОЛЬШЕ, чем n_jobs, то используется n_jobs worker'ов\n",
    "parallel_map(test_func,\n",
    "             args_container=[1, 2, 3, 4],\n",
    "             kwargs_container=None,\n",
    "             n_jobs=2)   # Здесь используется 2 worker'a"
   ]
  },
  {
   "cell_type": "code",
   "execution_count": 30,
   "id": "267d9424",
   "metadata": {},
   "outputs": [
    {
     "name": "stdout",
     "output_type": "stream",
     "text": [
      "CPU times: user 2.68 ms, sys: 0 ns, total: 2.68 ms\n",
      "Wall time: 5.01 s\n"
     ]
    },
    {
     "data": {
      "text/plain": [
       "[3, 3, 3, 3]"
      ]
     },
     "execution_count": 30,
     "metadata": {},
     "output_type": "execute_result"
    }
   ],
   "source": [
    "%%time\n",
    "\n",
    "# Пример 4.7\n",
    "# Время выполнения оптимизируется, данный код должен отрабатывать за 5 секунд\n",
    "parallel_map(test_func,\n",
    "             kwargs_container=[{\"s\": 5}, {\"s\": 1}, {\"s\": 2}, {\"s\": 1}],\n",
    "             n_jobs=2)"
   ]
  },
  {
   "cell_type": "code",
   "execution_count": 31,
   "id": "78a6faed",
   "metadata": {},
   "outputs": [
    {
     "data": {
      "text/plain": [
       "['first', 'second', 'third', 'fourth', 'fifth']"
      ]
     },
     "execution_count": 31,
     "metadata": {},
     "output_type": "execute_result"
    }
   ],
   "source": [
    "def test_func2(string, sleep_time=1):\n",
    "    time.sleep(sleep_time)\n",
    "    return string\n",
    "\n",
    "# Пример 5\n",
    "# Результаты возвращаются в том же порядке, в котором были переданы соответствующие аргументы вне зависимости от того, когда завершился worker\n",
    "arguments = [\"first\", \"second\", \"third\", \"fourth\", \"fifth\"]\n",
    "parallel_map(test_func2,\n",
    "             args_container=arguments,\n",
    "             kwargs_container=[{\"sleep_time\": 5}, {\"sleep_time\": 4}, {\"sleep_time\": 3}, {\"sleep_time\": 2}, {\"sleep_time\": 1}])"
   ]
  },
  {
   "cell_type": "code",
   "execution_count": 32,
   "id": "1899335e",
   "metadata": {},
   "outputs": [
    {
     "name": "stdout",
     "output_type": "stream",
     "text": [
      "CPU times: user 1.77 ms, sys: 337 µs, total: 2.11 ms\n",
      "Wall time: 3 s\n"
     ]
    },
    {
     "data": {
      "text/plain": [
       "[None, None, None]"
      ]
     },
     "execution_count": 32,
     "metadata": {},
     "output_type": "execute_result"
    }
   ],
   "source": [
    "%%time\n",
    "\n",
    "\n",
    "def test_func3():\n",
    "    def inner_test_func(sleep_time):\n",
    "        time.sleep(sleep_time)\n",
    "    return parallel_map(inner_test_func, args_container=[1, 2, 3])\n",
    "\n",
    "# Пример 6\n",
    "# Работает с функциями, созданными внутри других функций\n",
    "test_func3()"
   ]
  }
 ],
 "metadata": {
  "kernelspec": {
   "display_name": "parallel",
   "language": "python",
   "name": "parallel"
  },
  "language_info": {
   "codemirror_mode": {
    "name": "ipython",
    "version": 3
   },
   "file_extension": ".py",
   "mimetype": "text/x-python",
   "name": "python",
   "nbconvert_exporter": "python",
   "pygments_lexer": "ipython3",
   "version": "3.9.16"
  }
 },
 "nbformat": 4,
 "nbformat_minor": 5
}
