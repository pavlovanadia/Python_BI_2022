{
 "cells": [
  {
   "cell_type": "markdown",
   "id": "7c5a538f-2dbe-445c-9f46-cf0dc18867e4",
   "metadata": {},
   "source": [
    "# Задание 1 (5 баллов)"
   ]
  },
  {
   "cell_type": "markdown",
   "id": "1e8cc3b0-6f60-40da-8058-30d9eb434daf",
   "metadata": {},
   "source": [
    "Напишите классы **Chat**, **Message** и **User**. Они должны соответствовать следующим требованиям:\n",
    "\n",
    "**Chat**:\n",
    "+ Должен иметь атрибут `chat_history`, где будут храниться все сообщения (`Message`) в обратном хронологическом порядке (сначала новые, затем старые)\n",
    "+ Должен иметь метод `show_last_message`, выводящий на экран информацию о последнем сообщении\n",
    "+ Должен иметь метод `get_history_from_time_period`, который принимает два опциональных аргумента (даты с которой и по какую мы ищем сообщения и выдаём их). Метод также должен возвращать объект типа `Chat`\n",
    "+ Должен иметь метод `show_chat`, выводящий на экран все сообщения (каждое сообщение в таком же виде как и `show_last_message`, но с разделителем между ними)\n",
    "+ Должен иметь метод `recieve`, который будет принимать сообщение и добавлять его в чат\n",
    "\n",
    "**Message**:\n",
    "+ Должен иметь три обязательных атрибута\n",
    "    + `text` - текст сообщения\n",
    "    + `datetime` - дата и время сообщения (встроенный модуль datetime вам в помощь). Важно! Это должна быть не дата создания сообщения, а дата его попадания в чат! \n",
    "    + `user` - информация о пользователе, который оставил сообщение (какой тип данных использовать здесь, разберётесь сами)\n",
    "+ Должен иметь метод `show`, который печатает или возвращает информацию о сообщении с необходимой информацией (дата, время, юзер, текст)\n",
    "+ Должен иметь метод `send`, который будет отправлять сообщение в чат\n",
    "\n",
    "**User**:\n",
    "+ Класс с информацией о юзере, наполнение для этого класса придумайте сами\n",
    "\n",
    "Напишите несколько примеров использования кода, которое показывает взаимодействие между объектами.\n",
    "\n",
    "В тексте задания намерено не указано, какие аргументы должны принимать методы, пускай вам в этом поможет здравый смысл)\n",
    "\n",
    "В этом задании не стоит флексить всякими продвинутыми штуками, для этого есть последующие\n",
    "\n",
    "В этом задании можно использовать только модуль `datetime`"
   ]
  },
  {
   "cell_type": "code",
   "execution_count": 1,
   "id": "b94cf500",
   "metadata": {},
   "outputs": [],
   "source": [
    "from datetime import datetime as dt"
   ]
  },
  {
   "cell_type": "code",
   "execution_count": 2,
   "id": "c1fcc514",
   "metadata": {},
   "outputs": [],
   "source": [
    "class Chat:\n",
    "    def __init__(self):\n",
    "        self.chat_history = []\n",
    "\n",
    "    def show_last_message(self):\n",
    "        if len(self.chat_history) > 0:\n",
    "            return self.chat_history[0]\n",
    "        print('<No messages in the chat>')\n",
    "        return None\n",
    "    \n",
    "    def get_history_from_time_period(self, start_time=None, end_time=None):\n",
    "        if start_time is None:\n",
    "            start_time = self.chat_history[-1].datetime\n",
    "        if end_time is None:\n",
    "            end_time = self.chat_history[0].datetime\n",
    "        chat_period = [msg for msg in self.chat_history if start_time <= msg.datetime <= end_time]\n",
    "        chat_2 = Chat()\n",
    "        chat_2.chat_history = chat_period\n",
    "        return chat_2\n",
    "\n",
    "    def show_chat(self):\n",
    "        if len(self.chat_history) == 0:\n",
    "            print('<The chat is empty>')\n",
    "        for msg in self.chat_history[::-1]:\n",
    "            msg.show()\n",
    "            print()\n",
    "    \n",
    "    def receive(self, msg):\n",
    "        msg.datetime = dt.now()\n",
    "        self.chat_history.insert(0, msg)\n",
    "    \n",
    "\n",
    "\n",
    "class Message:\n",
    "    def __init__(self, user, message, datetime=None):\n",
    "        self.user = user.username\n",
    "        self.message = message\n",
    "        self.datetime = datetime\n",
    "    \n",
    "    def __str__(self):\n",
    "        return (f'{self.datetime}'\n",
    "                '\\n'\n",
    "                f'{self.user}:'\n",
    "                '\\n'\n",
    "                f'{self.message}')\n",
    "\n",
    "    def __repr__(self):\n",
    "        return (f'{self.datetime}'\n",
    "                '\\n'\n",
    "                f'{self.user}:'\n",
    "                '\\n'\n",
    "                f'{self.message}')\n",
    "    \n",
    "    def show(self):\n",
    "        print(f'user: {self.user}' \n",
    "                '\\n'\n",
    "                f'sent on: {self.datetime}'\n",
    "                '\\n'\n",
    "                f'message: {self.message}')\n",
    "\n",
    "    def send(self, chat_obj):\n",
    "        chat_obj.receive(self)\n",
    "\n",
    "\n",
    "\n",
    "class User:\n",
    "    def __init__(self, username, name, lastname, birthdate, status):\n",
    "        self.username = username\n",
    "        self.name = name\n",
    "        self.lastname = lastname\n",
    "        self.birthdate = birthdate\n",
    "        self.status = status\n",
    "    \n",
    "    def __str__(self):\n",
    "        return f'{self.name} {self.lastname} ({self.username}) *{self.status}*'\n",
    "\n",
    "    def __repr__(self):\n",
    "        return f'<username: {self.username}; name: {self.name} {self.lastname}; birth: {self.birthdate}; status: {self.status}>'"
   ]
  },
  {
   "cell_type": "code",
   "execution_count": 3,
   "id": "2d6f58bf",
   "metadata": {},
   "outputs": [],
   "source": [
    "didi = User(\"didi\", \"Vladimir\", \"Beckett\", 1952, \"promised salvation\")\n",
    "gogo = User(\"gogo\", \"Estragon\", \"Beckett\", 1952, \"never arrives\")"
   ]
  },
  {
   "cell_type": "code",
   "execution_count": 4,
   "id": "b351f053",
   "metadata": {},
   "outputs": [],
   "source": [
    "msg_1 = Message(didi, \"Gogo.\")\n",
    "msg_2 = Message(gogo, \"What?\")\n",
    "msg_3 = Message(didi, \"Suppose we repented.\")\n",
    "msg_4 = Message(gogo, \"Repented what?\")\n",
    "msg_5 = Message(didi, \"Oh....\")\n",
    "msg_6 = Message(didi, \"We wouldn't have to go into the details.\")"
   ]
  },
  {
   "cell_type": "code",
   "execution_count": 5,
   "id": "522bfe44",
   "metadata": {},
   "outputs": [],
   "source": [
    "my_fav_quote_ever = Chat()"
   ]
  },
  {
   "cell_type": "code",
   "execution_count": 6,
   "id": "c1320eee",
   "metadata": {},
   "outputs": [
    {
     "data": {
      "text/plain": [
       "<username: didi; name: Vladimir Beckett; birth: 1952; status: promised salvation>"
      ]
     },
     "execution_count": 6,
     "metadata": {},
     "output_type": "execute_result"
    }
   ],
   "source": [
    "didi"
   ]
  },
  {
   "cell_type": "code",
   "execution_count": 7,
   "id": "52cd3ca6",
   "metadata": {},
   "outputs": [
    {
     "data": {
      "text/plain": [
       "<username: gogo; name: Estragon Beckett; birth: 1952; status: never arrives>"
      ]
     },
     "execution_count": 7,
     "metadata": {},
     "output_type": "execute_result"
    }
   ],
   "source": [
    "gogo"
   ]
  },
  {
   "cell_type": "code",
   "execution_count": 8,
   "id": "52e51285",
   "metadata": {},
   "outputs": [
    {
     "name": "stdout",
     "output_type": "stream",
     "text": [
      "None\n",
      "didi:\n",
      "Gogo.\n"
     ]
    }
   ],
   "source": [
    "print(msg_1)"
   ]
  },
  {
   "cell_type": "code",
   "execution_count": 9,
   "id": "6eda02e8",
   "metadata": {},
   "outputs": [],
   "source": [
    "msg_1.send(my_fav_quote_ever)"
   ]
  },
  {
   "cell_type": "code",
   "execution_count": 10,
   "id": "5f97a841",
   "metadata": {},
   "outputs": [
    {
     "data": {
      "text/plain": [
       "2023-02-24 01:22:16.927330\n",
       "didi:\n",
       "Gogo."
      ]
     },
     "execution_count": 10,
     "metadata": {},
     "output_type": "execute_result"
    }
   ],
   "source": [
    "my_fav_quote_ever.show_last_message()"
   ]
  },
  {
   "cell_type": "code",
   "execution_count": 11,
   "id": "4372b9c5",
   "metadata": {},
   "outputs": [
    {
     "name": "stdout",
     "output_type": "stream",
     "text": [
      "user: didi\n",
      "sent on: 2023-02-24 01:22:16.927330\n",
      "message: Gogo.\n",
      "\n"
     ]
    }
   ],
   "source": [
    "my_fav_quote_ever.show_chat()"
   ]
  },
  {
   "cell_type": "code",
   "execution_count": 12,
   "id": "5709710c",
   "metadata": {},
   "outputs": [],
   "source": [
    "msg_2.send(my_fav_quote_ever)"
   ]
  },
  {
   "cell_type": "code",
   "execution_count": 13,
   "id": "14a1d964",
   "metadata": {},
   "outputs": [
    {
     "data": {
      "text/plain": [
       "2023-02-24 01:22:23.140770\n",
       "gogo:\n",
       "What?"
      ]
     },
     "execution_count": 13,
     "metadata": {},
     "output_type": "execute_result"
    }
   ],
   "source": [
    "my_fav_quote_ever.show_last_message()"
   ]
  },
  {
   "cell_type": "code",
   "execution_count": 14,
   "id": "adddc1c4",
   "metadata": {},
   "outputs": [
    {
     "name": "stdout",
     "output_type": "stream",
     "text": [
      "user: didi\n",
      "sent on: 2023-02-24 01:22:16.927330\n",
      "message: Gogo.\n",
      "\n",
      "user: gogo\n",
      "sent on: 2023-02-24 01:22:23.140770\n",
      "message: What?\n",
      "\n"
     ]
    }
   ],
   "source": [
    "my_fav_quote_ever.show_chat()"
   ]
  },
  {
   "cell_type": "code",
   "execution_count": 15,
   "id": "f4d68f50",
   "metadata": {},
   "outputs": [],
   "source": [
    "msg_3.send(my_fav_quote_ever)\n",
    "msg_4.send(my_fav_quote_ever)\n",
    "msg_5.send(my_fav_quote_ever)\n",
    "msg_6.send(my_fav_quote_ever)"
   ]
  },
  {
   "cell_type": "code",
   "execution_count": 16,
   "id": "8098f742",
   "metadata": {},
   "outputs": [
    {
     "name": "stdout",
     "output_type": "stream",
     "text": [
      "user: didi\n",
      "sent on: 2023-02-24 01:22:16.927330\n",
      "message: Gogo.\n",
      "\n",
      "user: gogo\n",
      "sent on: 2023-02-24 01:22:23.140770\n",
      "message: What?\n",
      "\n",
      "user: didi\n",
      "sent on: 2023-02-24 01:22:28.685595\n",
      "message: Suppose we repented.\n",
      "\n",
      "user: gogo\n",
      "sent on: 2023-02-24 01:22:28.685630\n",
      "message: Repented what?\n",
      "\n",
      "user: didi\n",
      "sent on: 2023-02-24 01:22:28.685654\n",
      "message: Oh....\n",
      "\n",
      "user: didi\n",
      "sent on: 2023-02-24 01:22:28.685679\n",
      "message: We wouldn't have to go into the details.\n",
      "\n"
     ]
    }
   ],
   "source": [
    "my_fav_quote_ever.show_chat()"
   ]
  },
  {
   "cell_type": "code",
   "execution_count": 17,
   "id": "383196b0",
   "metadata": {},
   "outputs": [
    {
     "name": "stdout",
     "output_type": "stream",
     "text": [
      "user: didi\n",
      "sent on: 2023-02-24 01:22:16.927330\n",
      "message: Gogo.\n"
     ]
    }
   ],
   "source": [
    "msg_1.show()"
   ]
  },
  {
   "cell_type": "code",
   "execution_count": 18,
   "id": "a6c9a991",
   "metadata": {},
   "outputs": [
    {
     "name": "stdout",
     "output_type": "stream",
     "text": [
      "user: didi\n",
      "sent on: 2023-02-24 01:22:28.685595\n",
      "message: Suppose we repented.\n"
     ]
    }
   ],
   "source": [
    "msg_3.show()"
   ]
  },
  {
   "attachments": {},
   "cell_type": "markdown",
   "id": "bac37ba7",
   "metadata": {},
   "source": [
    "to check how get_history_from_time_period works, just set the datetime parameters below according to the two messaged information above"
   ]
  },
  {
   "cell_type": "code",
   "execution_count": 19,
   "id": "dc04302f",
   "metadata": {},
   "outputs": [
    {
     "name": "stdout",
     "output_type": "stream",
     "text": [
      "user: didi\n",
      "sent on: 2023-02-24 01:22:16.927330\n",
      "message: Gogo.\n",
      "\n",
      "user: gogo\n",
      "sent on: 2023-02-24 01:22:23.140770\n",
      "message: What?\n",
      "\n"
     ]
    }
   ],
   "source": [
    "my_fav_quote_ever.get_history_from_time_period(\n",
    "    start_time=dt(2023, 2, 23, 22, 20, 39), \n",
    "    end_time=dt(2023, 2, 24, 1, 22, 28)).show_chat()"
   ]
  },
  {
   "cell_type": "markdown",
   "id": "a59aa1b3-4c93-480e-a09f-e57df34eb60a",
   "metadata": {},
   "source": [
    "# Задание 2 (3 балла)"
   ]
  },
  {
   "cell_type": "markdown",
   "id": "ab07eb69-877f-4c38-8c7d-88beae20071b",
   "metadata": {},
   "source": [
    "В питоне как-то слишком типично и неинтересно происходят вызовы функций. Напишите класс `Args`, который будет хранить в себе аргументы, а функции можно будет вызывать при помощи следующего синтаксиса.\n",
    "\n",
    "Использовать любые модули **нельзя**, да и вряд-ли это как-то поможет)"
   ]
  },
  {
   "cell_type": "code",
   "execution_count": 20,
   "id": "d73d6b31-c15a-4ae6-ad9b-b3fdab88efed",
   "metadata": {},
   "outputs": [],
   "source": [
    "class Args:\n",
    "    def __init__(self, *args, **kwargs):\n",
    "        self.args = args\n",
    "        self.kwargs = kwargs\n",
    "\n",
    "    def __rlshift__(self, func):\n",
    "        return func(*self.args, **self.kwargs)"
   ]
  },
  {
   "cell_type": "code",
   "execution_count": 21,
   "id": "55afedbb-4725-4078-bd98-bf803be0bf93",
   "metadata": {},
   "outputs": [
    {
     "data": {
      "text/plain": [
       "3"
      ]
     },
     "execution_count": 21,
     "metadata": {},
     "output_type": "execute_result"
    }
   ],
   "source": [
    "sum << Args([1, 2])"
   ]
  },
  {
   "cell_type": "code",
   "execution_count": 22,
   "id": "c37f0728-9bdc-469e-a5b8-3ab5aa43a731",
   "metadata": {},
   "outputs": [
    {
     "data": {
      "text/plain": [
       "53"
      ]
     },
     "execution_count": 22,
     "metadata": {},
     "output_type": "execute_result"
    }
   ],
   "source": [
    "(lambda a, b, c: a**2 + b + c) << Args(1, 2, c=50)"
   ]
  },
  {
   "cell_type": "markdown",
   "id": "d6915eaf-92fe-460b-bf9b-06ccf55b093f",
   "metadata": {},
   "source": [
    "# Задание 3 (5 баллов)"
   ]
  },
  {
   "cell_type": "markdown",
   "id": "5a588ef8-8af6-42b6-972b-3c716a604c34",
   "metadata": {},
   "source": [
    "Сделайте класс наследник `float`. Он должен вести себя как `float`, но также должен обладать некоторыми особенностями:\n",
    "+ При получении атрибутов формата `<действие>_<число>` мы получаем результат такого действия над нашим числом\n",
    "+ Создавать данные атрибуты в явном виде, очевидно, не стоит\n",
    "\n",
    "Подсказка: если в процессе гуглёжки, вы выйдете на такую тему как **\"Дескрипторы\", то это НЕ то, что вам сейчас нужно**\n",
    "\n",
    "Примеры использования ниже"
   ]
  },
  {
   "cell_type": "code",
   "execution_count": 23,
   "id": "61cb63a2-90ac-4b79-97a5-bb0496262e32",
   "metadata": {},
   "outputs": [],
   "source": [
    "class StrangeFloat(float):\n",
    "    def __init__(self, val):\n",
    "        super().__init__()\n",
    "        self.val = val\n",
    "\n",
    "    def __getattribute__(self, name):\n",
    "        try:\n",
    "            action, num = name.split(\"_\")\n",
    "            num = float(num)\n",
    "        except ValueError:\n",
    "            return super().__getattribute__(name)\n",
    "    \n",
    "        if action == \"add\":\n",
    "            return StrangeFloat(self.val + num)\n",
    "        elif action == \"subtract\":\n",
    "            return StrangeFloat(self.val - num)\n",
    "        elif action == \"multiply\":\n",
    "            return StrangeFloat(self.val * num)\n",
    "        elif action == \"divide\":\n",
    "            return StrangeFloat(self.val / num)\n",
    "        else:\n",
    "            raise NotImplementedError(f'Cannot find action {action} for strangefloat')"
   ]
  },
  {
   "cell_type": "code",
   "execution_count": 24,
   "id": "f730c9c0-7d90-4037-97c6-e926dcbc1ea3",
   "metadata": {},
   "outputs": [],
   "source": [
    "number = StrangeFloat(3.5)"
   ]
  },
  {
   "cell_type": "code",
   "execution_count": 25,
   "id": "b2756368-a489-486d-a0f1-244697f8503c",
   "metadata": {},
   "outputs": [
    {
     "data": {
      "text/plain": [
       "4.5"
      ]
     },
     "execution_count": 25,
     "metadata": {},
     "output_type": "execute_result"
    }
   ],
   "source": [
    "number.add_1"
   ]
  },
  {
   "cell_type": "code",
   "execution_count": 26,
   "id": "c6799592-3cb6-4c7d-af62-9c0a48a76c1d",
   "metadata": {},
   "outputs": [
    {
     "data": {
      "text/plain": [
       "-16.5"
      ]
     },
     "execution_count": 26,
     "metadata": {},
     "output_type": "execute_result"
    }
   ],
   "source": [
    "number.subtract_20"
   ]
  },
  {
   "cell_type": "code",
   "execution_count": 27,
   "id": "130027b5-017a-4c70-b072-1fdc6acf670f",
   "metadata": {},
   "outputs": [
    {
     "data": {
      "text/plain": [
       "17.5"
      ]
     },
     "execution_count": 27,
     "metadata": {},
     "output_type": "execute_result"
    }
   ],
   "source": [
    "number.multiply_5"
   ]
  },
  {
   "cell_type": "code",
   "execution_count": 28,
   "id": "2b901e5c-5a51-4788-b15b-9b20a074e1a4",
   "metadata": {},
   "outputs": [
    {
     "data": {
      "text/plain": [
       "0.14"
      ]
     },
     "execution_count": 28,
     "metadata": {},
     "output_type": "execute_result"
    }
   ],
   "source": [
    "number.divide_25"
   ]
  },
  {
   "cell_type": "code",
   "execution_count": 29,
   "id": "ea52c492-b0ce-4d73-8aba-a0ea51ed0b60",
   "metadata": {},
   "outputs": [
    {
     "data": {
      "text/plain": [
       "-4.125"
      ]
     },
     "execution_count": 29,
     "metadata": {},
     "output_type": "execute_result"
    }
   ],
   "source": [
    "number.add_1.add_2.multiply_6.divide_8.subtract_9"
   ]
  },
  {
   "cell_type": "code",
   "execution_count": 30,
   "id": "e26ef411-a5df-46c7-bb9d-e77a1fad3cec",
   "metadata": {},
   "outputs": [
    {
     "data": {
      "text/plain": [
       "1.0"
      ]
     },
     "execution_count": 30,
     "metadata": {},
     "output_type": "execute_result"
    }
   ],
   "source": [
    "getattr(number, \"add_-2.5\")   # Используем getattr, так как не можем написать number.add_-2.5 - это SyntaxError"
   ]
  },
  {
   "cell_type": "code",
   "execution_count": 31,
   "id": "7a57bb29-1105-4df1-a4c4-5fbf62eef11d",
   "metadata": {},
   "outputs": [
    {
     "data": {
      "text/plain": [
       "11.5"
      ]
     },
     "execution_count": 31,
     "metadata": {},
     "output_type": "execute_result"
    }
   ],
   "source": [
    "number + 8   # Стандартные для float операции работают также"
   ]
  },
  {
   "cell_type": "code",
   "execution_count": 32,
   "id": "f0246b31-c55a-4bb8-ac15-46509bd8b340",
   "metadata": {},
   "outputs": [
    {
     "data": {
      "text/plain": [
       "(7, 2)"
      ]
     },
     "execution_count": 32,
     "metadata": {},
     "output_type": "execute_result"
    }
   ],
   "source": [
    "number.as_integer_ratio()   # Стандартные для float операции работают также  (это встроенный метод float, писать его НЕ НАДО)"
   ]
  },
  {
   "cell_type": "code",
   "execution_count": 33,
   "id": "325afc17",
   "metadata": {},
   "outputs": [
    {
     "data": {
      "text/plain": [
       "0.0"
      ]
     },
     "execution_count": 33,
     "metadata": {},
     "output_type": "execute_result"
    }
   ],
   "source": [
    "number.imag"
   ]
  },
  {
   "cell_type": "markdown",
   "id": "3635bceb-723c-4b2f-82e3-269bd914c46c",
   "metadata": {},
   "source": [
    "# Задание 4 (3 балла)"
   ]
  },
  {
   "cell_type": "markdown",
   "id": "31d35f82-1e20-4bf5-b896-7b8163f8386f",
   "metadata": {},
   "source": [
    "В данном задании мы немного отдохнём и повеселимся. От вас требуется заменить в данном коде максимально возможное количество синтаксических конструкций на вызовы dunder методов, dunder атрибутов и dunder переменных.\n",
    "\n",
    "Маленькая заметка: полностью всё заменить невозможно. Например, `function()` можно записать как `function.__call__()`, но при этом мы всё ещё не избавляемся от скобочек, так что можно делать так до бесконечности `function.__call__.__call__.__call__.__call__.....__call__()` и при всём при этом мы ещё не избавляемся от `.` для доступа к атрибутам. В общем, замените всё, что получится, не закапываясь в повторы, как в приведённом примере. Чем больше разных методов вы найдёте и используете, тем лучше и тем выше будет балл\n",
    "\n",
    "Код по итогу дожен работать и печатать число **4420.0**, как в примере. Структуру кода менять нельзя, просто изменяем конструкции на синонимичные\n",
    "\n",
    "И ещё маленькая подсказка. Заменить здесь можно всё кроме:\n",
    "+ Конструкции `for ... in ...`:\n",
    "+ Синтаксиса создания лямбда функции\n",
    "+ Оператора присваивания `=`\n",
    "+ Конструкции `if-else`"
   ]
  },
  {
   "cell_type": "code",
   "execution_count": 34,
   "id": "a87cff2a-7168-470d-b38f-1cb5a60ac0c4",
   "metadata": {},
   "outputs": [
    {
     "name": "stdout",
     "output_type": "stream",
     "text": [
      "4420.0\n"
     ]
    }
   ],
   "source": [
    "import numpy as np\n",
    "\n",
    "\n",
    "matrix = []\n",
    "for idx in range(0, 100, 10):\n",
    "    matrix += [list(range(idx, idx + 10))]\n",
    "    \n",
    "selected_columns_indices = list(filter(lambda x: x in range(1, 5, 2), range(len(matrix))))\n",
    "selected_columns = map(lambda x: [x[col] for col in selected_columns_indices], matrix)\n",
    "\n",
    "arr = np.array(list(selected_columns))\n",
    "\n",
    "mask = arr[:, 1] % 3 == 0\n",
    "new_arr = arr[mask]\n",
    "\n",
    "product = new_arr @ new_arr.T\n",
    "\n",
    "if (product[0] < 1000).all() and (product[2] > 1000).any():\n",
    "    print(product.mean())"
   ]
  },
  {
   "cell_type": "code",
   "execution_count": 35,
   "id": "9e29cc00-c8db-4cc4-a93b-2908352d9344",
   "metadata": {},
   "outputs": [
    {
     "name": "stdout",
     "output_type": "stream",
     "text": [
      "4420.0\n"
     ]
    }
   ],
   "source": [
    "# Ваш код здесь\n",
    "np = __import__(\"numpy\")\n",
    "\n",
    "matrix = list.__call__()\n",
    "for idx in range.__call__(0, 100, 10):\n",
    "    matrix.__iadd__([list.__call__(range.__call__(idx, idx.__add__(10)))])\n",
    "    \n",
    "selected_columns_indices = list.__call__(filter.__call__(lambda x: x in range(1, 5, 2), range.__call__(matrix.__len__())))\n",
    "selected_columns = map.__call__(lambda x: list.__call__(x.__getitem__(col) for col in selected_columns_indices), matrix)\n",
    "\n",
    "arr = np.array(list.__call__(selected_columns))\n",
    "\n",
    "mask = arr.__getitem__((slice.__call__(None), 1)).__mod__(3).__eq__(0)\n",
    "new_arr = arr.__getitem__(mask)\n",
    "\n",
    "product = new_arr.__matmul__(new_arr.T)\n",
    "\n",
    "if all.__call__((product.__getitem__(0).__lt__(1000))).__and__(any.__call__((product.__getitem__(2).__gt__(1000)))):\n",
    "    print.__call__(product.mean())"
   ]
  },
  {
   "cell_type": "markdown",
   "id": "e90e5938-cabe-4ee1-9a88-73f25b3b67c3",
   "metadata": {},
   "source": [
    "# Задание 5 (10 баллов)"
   ]
  },
  {
   "cell_type": "markdown",
   "id": "0e58f6a8-7bb8-45f0-b14d-3bcd1f1ba5a9",
   "metadata": {},
   "source": [
    "Напишите абстрактный класс `BiologicalSequence`, который задаёт следующий интерфейс:\n",
    "+ Работа с функцией `len`\n",
    "+ Возможность получать элементы по индексу и делать срезы последовательности (аналогично строкам)\n",
    "+ Вывод на печать в удобном виде и возможность конвертации в строку\n",
    "+ Возможность проверить алфавит последовательности на корректность\n",
    "\n",
    "Напишите класс `NucleicAcidSequence`:\n",
    "+ Данный класс реализует интерфейс `BiologicalSequence`\n",
    "+ Данный класс имеет новый метод `complement`, возвращающий комплементарную последовательность\n",
    "+ Данный класс имеет новый метод `gc_content`, возвращающий GC-состав (без разницы, в процентах или в долях)\n",
    "\n",
    "Напишите классы наследники `NucleicAcidSequence`: `DNASequence` и `RNASequence`\n",
    "+ `DNASequence` должен иметь метод `transcribe`, возвращающий транскрибированную РНК-последовательность\n",
    "+ Данные классы не должны иметь <ins>публичных методов</ins> `complement` и метода для проверки алфавита, так как они уже должны быть реализованы в `NucleicAcidSequence`.\n",
    "\n",
    "Напишите класс `AminoAcidSequence`:\n",
    "+ Данный класс реализует интерфейс `BiologicalSequence`\n",
    "+ Добавьте этому классу один любой метод, подходящий по смыслу к аминокислотной последовательности. Например, метод для нахождения изоэлектрической точки, молекулярного веса и т.д.\n",
    "\n",
    "Комментарий по поводу метода `NucleicAcidSequence.complement`, так как я хочу, чтобы вы сделали его опредедённым образом:\n",
    "\n",
    "При вызове `dna.complement()` или условного `dna.check_alphabet()` должны будут вызываться соответствующие методы из `NucleicAcidSequence`. При этом, данный метод должен обладать свойством полиморфизма, иначе говоря, внутри `complement` не надо делать условия а-ля `if seuqence_type == \"DNA\": return self.complement_dna()`, это крайне не гибко. Данный метод должен опираться на какой-то общий интерфейс между ДНК и РНК. Создание экземпляров `NucleicAcidSequence` не подразумевается, поэтому код `NucleicAcidSequence(\"ATGC\").complement()` не обязан работать, а в идеале должен кидать исключение `NotImplementedError` при вызове от экземпляра `NucleicAcidSequence`\n",
    "\n",
    "Вся сложность задания в том, чтобы правильно организовать код. Если у вас есть повторяющийся код в сестринских классах или родительском и дочернем, значит вы что-то делаете не так.\n",
    "\n",
    "\n",
    "Маленькое замечание: По-хорошему, между классом `BiologicalSequence` и классами `NucleicAcidSequence` и `AminoAcidSequence`, ещё должен быть класс-прослойка, частично реализующий интерфейс `BiologicalSequence`, но его писать не обязательно, так как задание и так довольно большое (правда из-за этого у вас неминуемо возникнет повторяющийся код в классах `NucleicAcidSequence` и `AminoAcidSequence`)"
   ]
  },
  {
   "cell_type": "code",
   "execution_count": 36,
   "id": "e82892a2",
   "metadata": {},
   "outputs": [],
   "source": [
    "from abc import ABC, abstractmethod\n",
    "\n",
    "class BiologicalSequence(ABC):\n",
    "    @abstractmethod\n",
    "    def __len__(self):\n",
    "        pass\n",
    "\n",
    "    @abstractmethod\n",
    "    def __getitem__(self, index):\n",
    "        pass\n",
    "\n",
    "    @abstractmethod\n",
    "    def __str__(self):\n",
    "        pass\n",
    "\n",
    "    @abstractmethod\n",
    "    def is_valid_alphabet(self):\n",
    "        pass\n",
    "\n",
    "class BioSeqInterface(BiologicalSequence):\n",
    "    def __init__(self, sequence):\n",
    "        self.sequence = sequence.upper()\n",
    "    \n",
    "    def __len__(self):\n",
    "        return len(self.sequence)\n",
    "    \n",
    "    def __getitem__(self, index):\n",
    "        return self.sequence.__getitem__(index)\n",
    "    \n",
    "    def __str__(self):\n",
    "        return str(self.sequence)\n",
    "    \n",
    "class NucleicAcidSequence(BioSeqInterface):\n",
    "    def __init__(self, sequence):\n",
    "        super().__init__(sequence)\n",
    "        self.compl_rule = None\n",
    "\n",
    "    def is_valid_alphabet(self):\n",
    "        if self.compl_rule is None:\n",
    "            raise NotImplementedError\n",
    "        ncltds = set(self.sequence)\n",
    "        for nucl in ncltds:\n",
    "            if nucl not in self.compl_rule.keys():\n",
    "                return False\n",
    "        return True\n",
    "    \n",
    "    def complement(self):\n",
    "        if self.compl_rule == None:\n",
    "            raise NotImplementedError\n",
    "        compl_seq = [self.compl_rule[nucl] for nucl in self.sequence]\n",
    "        return \"\".join(compl_seq)\n",
    "    \n",
    "    def gc_content(self):\n",
    "        gc_count = self.sequence.count(\"G\") + self.sequence.count(\"C\")\n",
    "        gc_cont = 100 * gc_count / len(self.sequence)\n",
    "        return gc_cont\n",
    "    \n",
    "class DNASequence(NucleicAcidSequence):\n",
    "    def __init__(self, sequence):\n",
    "        super().__init__(sequence)\n",
    "        self.compl_rule = {\n",
    "            \"A\": \"T\",\n",
    "            \"T\": \"A\",\n",
    "            \"G\": \"C\",\n",
    "            \"C\": \"G\",\n",
    "            \"N\": \"N\"\n",
    "        }\n",
    "\n",
    "    def transcribe(self):\n",
    "        transcribe_rule = {\n",
    "            \"A\": \"U\",\n",
    "            \"T\": \"A\",\n",
    "            \"G\": \"C\",\n",
    "            \"C\": \"G\",\n",
    "            \"N\": \"N\"\n",
    "        }\n",
    "        transcribe_result = [transcribe_rule[nucl] for nucl in self.sequence]\n",
    "        return \"\".join(transcribe_result)\n",
    "\n",
    "class RNASequence(NucleicAcidSequence):\n",
    "    def __init__(self, sequence):\n",
    "        super().__init__(sequence)\n",
    "        self.compl_rule = {\n",
    "            \"A\": \"U\",\n",
    "            \"U\": \"A\",\n",
    "            \"G\": \"C\",\n",
    "            \"C\": \"G\",\n",
    "            \"N\": \"N\"\n",
    "        }\n",
    "\n",
    "    def reverse_transcribe(self):\n",
    "        rev_transcribe_rule = {\n",
    "            \"U\": \"A\",\n",
    "            \"A\": \"T\",\n",
    "            \"G\": \"C\",\n",
    "            \"C\": \"G\",\n",
    "            \"N\": \"N\"\n",
    "        }\n",
    "        rev_transcribe_result = [rev_transcribe_rule[nucl] for nucl in self.sequence]\n",
    "        return \"\".join(rev_transcribe_result)\n",
    "    \n",
    "class AminoAcidSequence(BioSeqInterface):\n",
    "    def __init__(self, sequence):\n",
    "        super().__init__(sequence)\n",
    "\n",
    "    def is_valid_alphabet(self):\n",
    "        self_aminoacids = set(self.sequence)\n",
    "        aminoacids = set(\"ACDEFGHIKLMNPQRSTVWY\")\n",
    "        not_aminoacids = self_aminoacids.difference(aminoacids)\n",
    "        return len(not_aminoacids) == 0\n",
    "    \n",
    "    def molecular_weight(self):\n",
    "        aminoacid_weight = {\n",
    "            \"A\": 89.09, \"C\": 121.16, \"D\": 133.10, \"E\": 147.13,\n",
    "            \"F\": 165.19, \"G\": 75.07, \"H\": 155.16, \"I\": 131.17,\n",
    "            \"K\": 146.19, \"L\": 131.17, \"M\": 149.21, \"N\": 132.12,\n",
    "            \"P\": 115.13, \"Q\": 146.15, \"R\": 174.20, \"S\": 105.09,\n",
    "            \"T\": 119.12, \"V\": 117.15, \"W\": 204.23, \"Y\": 181.19\n",
    "        }\n",
    "        prot_weight = sum([aminoacid_weight[aminoacid] for aminoacid in self.sequence])\n",
    "        return prot_weight"
   ]
  },
  {
   "cell_type": "code",
   "execution_count": 37,
   "id": "96bd8e95",
   "metadata": {},
   "outputs": [
    {
     "data": {
      "text/plain": [
       "'CGC'"
      ]
     },
     "execution_count": 37,
     "metadata": {},
     "output_type": "execute_result"
    }
   ],
   "source": [
    "NucleicAcidSequence(\"ATCGCGATCG\")[2:5]"
   ]
  },
  {
   "cell_type": "code",
   "execution_count": 38,
   "id": "ce878a73",
   "metadata": {},
   "outputs": [
    {
     "data": {
      "text/plain": [
       "10"
      ]
     },
     "execution_count": 38,
     "metadata": {},
     "output_type": "execute_result"
    }
   ],
   "source": [
    "len(NucleicAcidSequence(\"ATCGCGATCG\"))"
   ]
  },
  {
   "cell_type": "code",
   "execution_count": 39,
   "id": "3980b9e1",
   "metadata": {},
   "outputs": [
    {
     "data": {
      "text/plain": [
       "'TACGCGA'"
      ]
     },
     "execution_count": 39,
     "metadata": {},
     "output_type": "execute_result"
    }
   ],
   "source": [
    "DNASequence(\"ATGCGCT\").complement()"
   ]
  },
  {
   "cell_type": "code",
   "execution_count": 40,
   "id": "2c1df4b7",
   "metadata": {},
   "outputs": [
    {
     "data": {
      "text/plain": [
       "'AAUCGAC'"
      ]
     },
     "execution_count": 40,
     "metadata": {},
     "output_type": "execute_result"
    }
   ],
   "source": [
    "RNASequence(\"UUAGCUG\").complement()"
   ]
  },
  {
   "cell_type": "code",
   "execution_count": 41,
   "id": "c08334de",
   "metadata": {},
   "outputs": [
    {
     "data": {
      "text/plain": [
       "7"
      ]
     },
     "execution_count": 41,
     "metadata": {},
     "output_type": "execute_result"
    }
   ],
   "source": [
    "len(RNASequence(\"UUAGCUG\"))"
   ]
  },
  {
   "cell_type": "code",
   "execution_count": 43,
   "id": "79cc722e",
   "metadata": {},
   "outputs": [
    {
     "ename": "NotImplementedError",
     "evalue": "",
     "output_type": "error",
     "traceback": [
      "\u001b[0;31m---------------------------------------------------------------------------\u001b[0m",
      "\u001b[0;31mNotImplementedError\u001b[0m                       Traceback (most recent call last)",
      "Cell \u001b[0;32mIn[43], line 1\u001b[0m\n\u001b[0;32m----> 1\u001b[0m NucleicAcidSequence(\u001b[39m\"\u001b[39;49m\u001b[39mATCGCGATCG\u001b[39;49m\u001b[39m\"\u001b[39;49m)\u001b[39m.\u001b[39;49mcomplement()\n",
      "Cell \u001b[0;32mIn[36], line 49\u001b[0m, in \u001b[0;36mNucleicAcidSequence.complement\u001b[0;34m(self)\u001b[0m\n\u001b[1;32m     47\u001b[0m \u001b[39mdef\u001b[39;00m \u001b[39mcomplement\u001b[39m(\u001b[39mself\u001b[39m):\n\u001b[1;32m     48\u001b[0m     \u001b[39mif\u001b[39;00m \u001b[39mself\u001b[39m\u001b[39m.\u001b[39mcompl_rule \u001b[39m==\u001b[39m \u001b[39mNone\u001b[39;00m:\n\u001b[0;32m---> 49\u001b[0m         \u001b[39mraise\u001b[39;00m \u001b[39mNotImplementedError\u001b[39;00m\n\u001b[1;32m     50\u001b[0m     compl_seq \u001b[39m=\u001b[39m [\u001b[39mself\u001b[39m\u001b[39m.\u001b[39mcompl_rule[nucl] \u001b[39mfor\u001b[39;00m nucl \u001b[39min\u001b[39;00m \u001b[39mself\u001b[39m\u001b[39m.\u001b[39msequence]\n\u001b[1;32m     51\u001b[0m     \u001b[39mreturn\u001b[39;00m \u001b[39m\"\u001b[39m\u001b[39m\"\u001b[39m\u001b[39m.\u001b[39mjoin(compl_seq)\n",
      "\u001b[0;31mNotImplementedError\u001b[0m: "
     ]
    }
   ],
   "source": [
    "NucleicAcidSequence(\"ATCGCGATCG\").complement()"
   ]
  },
  {
   "cell_type": "code",
   "execution_count": 44,
   "id": "5340de89",
   "metadata": {},
   "outputs": [
    {
     "ename": "NotImplementedError",
     "evalue": "",
     "output_type": "error",
     "traceback": [
      "\u001b[0;31m---------------------------------------------------------------------------\u001b[0m",
      "\u001b[0;31mNotImplementedError\u001b[0m                       Traceback (most recent call last)",
      "Cell \u001b[0;32mIn[44], line 1\u001b[0m\n\u001b[0;32m----> 1\u001b[0m NucleicAcidSequence(\u001b[39m\"\u001b[39;49m\u001b[39mATCGCGATCG\u001b[39;49m\u001b[39m\"\u001b[39;49m)\u001b[39m.\u001b[39;49mis_valid_alphabet()\n",
      "Cell \u001b[0;32mIn[36], line 40\u001b[0m, in \u001b[0;36mNucleicAcidSequence.is_valid_alphabet\u001b[0;34m(self)\u001b[0m\n\u001b[1;32m     38\u001b[0m \u001b[39mdef\u001b[39;00m \u001b[39mis_valid_alphabet\u001b[39m(\u001b[39mself\u001b[39m):\n\u001b[1;32m     39\u001b[0m     \u001b[39mif\u001b[39;00m \u001b[39mself\u001b[39m\u001b[39m.\u001b[39mcompl_rule \u001b[39mis\u001b[39;00m \u001b[39mNone\u001b[39;00m:\n\u001b[0;32m---> 40\u001b[0m         \u001b[39mraise\u001b[39;00m \u001b[39mNotImplementedError\u001b[39;00m\n\u001b[1;32m     41\u001b[0m     ncltds \u001b[39m=\u001b[39m \u001b[39mset\u001b[39m(\u001b[39mself\u001b[39m\u001b[39m.\u001b[39msequence)\n\u001b[1;32m     42\u001b[0m     \u001b[39mfor\u001b[39;00m nucl \u001b[39min\u001b[39;00m ncltds:\n",
      "\u001b[0;31mNotImplementedError\u001b[0m: "
     ]
    }
   ],
   "source": [
    "NucleicAcidSequence(\"ATCGCGATCG\").is_valid_alphabet()"
   ]
  },
  {
   "cell_type": "code",
   "execution_count": null,
   "id": "6948f110",
   "metadata": {},
   "outputs": [],
   "source": []
  }
 ],
 "metadata": {
  "kernelspec": {
   "display_name": "classes",
   "language": "python",
   "name": "classes"
  },
  "language_info": {
   "codemirror_mode": {
    "name": "ipython",
    "version": 3
   },
   "file_extension": ".py",
   "mimetype": "text/x-python",
   "name": "python",
   "nbconvert_exporter": "python",
   "pygments_lexer": "ipython3",
   "version": "3.9.12"
  },
  "vscode": {
   "interpreter": {
    "hash": "2c6a23e5ca86e48af99ddb8d87a6f8a76f480f6605a8646019b2b2d50a997dfd"
   }
  }
 },
 "nbformat": 4,
 "nbformat_minor": 5
}
