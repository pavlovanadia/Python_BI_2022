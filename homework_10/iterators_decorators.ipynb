{
 "cells": [
  {
   "cell_type": "markdown",
   "id": "72f5013c-f4b9-4a1f-aed9-7e47623e7c8a",
   "metadata": {},
   "source": [
    "# Задание 1 (2 балла)"
   ]
  },
  {
   "cell_type": "markdown",
   "id": "0e818fc0-4716-45c6-8942-7b60da358200",
   "metadata": {},
   "source": [
    "Напишите класс `MyDict`, который будет полностью повторять поведение обычного словаря, за исключением того, что при итерации мы должны получать и ключи, и значения.\n",
    "\n",
    "**Модули использовать нельзя**"
   ]
  },
  {
   "cell_type": "code",
   "execution_count": 232,
   "id": "3dc27675-99fc-4040-a8f7-aa20be51c816",
   "metadata": {},
   "outputs": [],
   "source": [
    "class MyDict(dict):\n",
    "    def __iter__(self):\n",
    "        return iter(self.items())"
   ]
  },
  {
   "cell_type": "code",
   "execution_count": 233,
   "id": "a96e453e-2553-40b1-889f-cce04c6db771",
   "metadata": {},
   "outputs": [
    {
     "name": "stdout",
     "output_type": "stream",
     "text": [
      "a 1\n",
      "b 2\n",
      "c 3\n",
      "d 25\n"
     ]
    }
   ],
   "source": [
    "dct = MyDict({\"a\": 1, \"b\": 2, \"c\": 3, \"d\": 25})\n",
    "for key, value in dct:\n",
    "    print(key, value)   "
   ]
  },
  {
   "cell_type": "code",
   "execution_count": 234,
   "id": "d3b93507-d88a-4773-8d6f-31990e1effbc",
   "metadata": {},
   "outputs": [
    {
     "name": "stdout",
     "output_type": "stream",
     "text": [
      "a 1\n",
      "b 2\n",
      "c 3\n",
      "d 25\n"
     ]
    }
   ],
   "source": [
    "for key, value in dct.items():\n",
    "    print(key, value)"
   ]
  },
  {
   "cell_type": "code",
   "execution_count": 235,
   "id": "9be2de18-f963-4de0-afba-c183a9a56087",
   "metadata": {},
   "outputs": [
    {
     "name": "stdout",
     "output_type": "stream",
     "text": [
      "a\n",
      "b\n",
      "c\n",
      "d\n"
     ]
    }
   ],
   "source": [
    "for key in dct.keys():\n",
    "    print(key)"
   ]
  },
  {
   "cell_type": "code",
   "execution_count": 236,
   "id": "b7bfbf08-7253-4aab-a9a0-a8e8500c5a29",
   "metadata": {},
   "outputs": [
    {
     "data": {
      "text/plain": [
       "28"
      ]
     },
     "execution_count": 236,
     "metadata": {},
     "output_type": "execute_result"
    }
   ],
   "source": [
    "dct[\"c\"] + dct[\"d\"]"
   ]
  },
  {
   "cell_type": "markdown",
   "id": "4bde5544-afd0-408e-a03b-dad5096ee685",
   "metadata": {},
   "source": [
    "# Задание 2 (2 балла)"
   ]
  },
  {
   "cell_type": "markdown",
   "id": "36e85085-9990-4a2a-a005-f5ef3afd438d",
   "metadata": {},
   "source": [
    "Напишите функцию `iter_append`, которая \"добавляет\" новый элемент в конец итератора, возвращая итератор, который включает изначальные элементы и новый элемент. Итерироваться по итератору внутри функции нельзя, то есть вот такая штука не принимается\n",
    "```python\n",
    "def iter_append(iterator, item):\n",
    "    lst = list(iterator) + [item]\n",
    "    return iter(lst)\n",
    "```\n",
    "\n",
    "**Модули использовать нельзя**"
   ]
  },
  {
   "cell_type": "code",
   "execution_count": 237,
   "id": "4ae4c2eb",
   "metadata": {},
   "outputs": [
    {
     "name": "stdout",
     "output_type": "stream",
     "text": [
      "1\n",
      "2\n",
      "3\n",
      "4\n"
     ]
    }
   ],
   "source": [
    "def iter_append(iterator, item):\n",
    "    yield from iterator\n",
    "    yield item\n",
    "    \n",
    "\n",
    "my_iterator = iter([1, 2, 3])\n",
    "new_iterator = iter_append(my_iterator, 4)\n",
    "\n",
    "for element in new_iterator:\n",
    "    print(element)"
   ]
  },
  {
   "cell_type": "markdown",
   "id": "72c35894-0caf-41ac-a584-56058b243f29",
   "metadata": {},
   "source": [
    "# Задание 3 (5 баллов)"
   ]
  },
  {
   "cell_type": "markdown",
   "id": "884be4ed-b388-4b36-ad7d-d6835a87425e",
   "metadata": {},
   "source": [
    "Представим, что мы установили себе некотурую библиотеку, которая содержит в себе два класса `MyString` и `MySet`, которые являются наследниками `str` и `set`, но также несут и дополнительные методы.\n",
    "\n",
    "Проблема заключается в том, что библиотеку писали не очень аккуратные люди, поэтому получилось так, что некоторые методы возвращают не тот тип данных, который мы ожидаем. Например, `MyString().reverse()` возвращает объект класса `str`, хотя логичнее было бы ожидать объект класса `MyString`.\n",
    "\n",
    "Найдите и реализуйте удобный способ сделать так, чтобы подобные методы возвращали экземпляр текущего класса, а не родительского. При этом **код методов изменять нельзя**\n",
    "\n",
    "**+3 дополнительных балла** за реализацию того, чтобы **унаследованные от `str` и `set` методы** также возвращали объект интересующего нас класса (то есть `MyString.replace(..., ...)` должен возвращать `MyString`). **Переопределять методы нельзя**\n",
    "\n",
    "**Модули использовать нельзя**"
   ]
  },
  {
   "cell_type": "code",
   "execution_count": 238,
   "id": "7973388e-c16f-437f-a1af-30ddd69f7671",
   "metadata": {},
   "outputs": [],
   "source": [
    "# Ваш код где угодно, но не внутри методов\n",
    "\n",
    "\n",
    "class MyString(str):\n",
    "    def reverse(self):\n",
    "        return type(self)(self[::-1])\n",
    "    \n",
    "    def make_uppercase(self):\n",
    "        return type(self)(\"\".join([chr(ord(char) - 32) if 97 <= ord(char) <= 122 else char for char in self]))\n",
    "    \n",
    "    def make_lowercase(self):\n",
    "        return type(self)(\"\".join([chr(ord(char) + 32) if 65 <= ord(char) <= 90 else char for char in self]))\n",
    "    \n",
    "    def capitalize_words(self):\n",
    "        return type(self)(\" \".join([word.capitalize() for word in self.split()]))\n",
    "    \n",
    "    \n",
    "class MySet(set):\n",
    "    def is_empty(self):\n",
    "        return len(self) == 0\n",
    "    \n",
    "    def has_duplicates(self):\n",
    "        return len(self) != len(set(self))\n",
    "    \n",
    "    def union_with(self, other):\n",
    "        return type(self)(self.union(other))\n",
    "    \n",
    "    def intersection_with(self, other):\n",
    "        return type(self)(self.intersection(other))\n",
    "    \n",
    "    def difference_with(self, other):\n",
    "        return type(self)(self.difference(other))"
   ]
  },
  {
   "cell_type": "code",
   "execution_count": 239,
   "id": "9cddadf2",
   "metadata": {},
   "outputs": [
    {
     "name": "stdout",
     "output_type": "stream",
     "text": [
      "<class '__main__.MyString'>\n",
      "<class '__main__.MyString'>\n",
      "<class '__main__.MyString'>\n",
      "<class '__main__.MyString'>\n",
      "\n",
      "<class 'bool'>\n",
      "<class 'bool'>\n",
      "<class '__main__.MySet'>\n",
      "<class '__main__.MySet'>\n"
     ]
    }
   ],
   "source": [
    "string_example = MyString(\"Aa Bb Cc\")\n",
    "set_example_1 = MySet({1, 2, 3, 4})\n",
    "set_example_2 = MySet({3, 4, 5, 6, 6})\n",
    "\n",
    "print(type(string_example.reverse()))\n",
    "print(type(string_example.make_uppercase()))\n",
    "print(type(string_example.make_lowercase()))\n",
    "print(type(string_example.capitalize_words()))\n",
    "print()\n",
    "print(type(set_example_1.is_empty()))\n",
    "print(type(set_example_2.has_duplicates()))\n",
    "print(type(set_example_1.union_with(set_example_2)))\n",
    "print(type(set_example_1.difference_with(set_example_2)))"
   ]
  },
  {
   "cell_type": "markdown",
   "id": "f246ecea-9aaa-45c6-98e4-996dc9cdce14",
   "metadata": {},
   "source": [
    "# Задание 4 (5 баллов)"
   ]
  },
  {
   "cell_type": "markdown",
   "id": "e66831d7-df9c-4778-9942-bbb8796fef1e",
   "metadata": {},
   "source": [
    "Напишите декоратор `switch_privacy`:\n",
    "1. Делает все публичные **методы** класса приватными\n",
    "2. Делает все приватные методы класса публичными\n",
    "3. Dunder методы и защищённые методы остаются без изменений\n",
    "4. Должен работать тестовый код ниже, в теле класса писать код нельзя\n",
    "\n",
    "**Модули использовать нельзя**"
   ]
  },
  {
   "cell_type": "code",
   "execution_count": 240,
   "id": "7aa531a6",
   "metadata": {},
   "outputs": [],
   "source": [
    "def switch_privacy(cls):\n",
    "    methods = dir(cls)\n",
    "    for method in methods:\n",
    "        if method.startswith(\"__\"): # skip dunders\n",
    "            pass\n",
    "\n",
    "        elif method.startswith(f\"_{cls.__name__}\"):\n",
    "            method_content = getattr(cls, method)\n",
    "            new_method = method.split(\"__\")[1]\n",
    "            delattr(cls, method)\n",
    "            setattr(cls, new_method, method_content)\n",
    "\n",
    "        elif method.startswith(\"_\"): # skip protected\n",
    "            pass\n",
    "\n",
    "        else:\n",
    "            method_content = getattr(cls, method)\n",
    "            new_method = f\"_{cls.__name__}__{method}\"\n",
    "            delattr(cls, method)\n",
    "            setattr(cls, new_method, method_content)\n",
    "    return cls"
   ]
  },
  {
   "cell_type": "code",
   "execution_count": 241,
   "id": "733db8d6-87b8-4797-97be-d3b901422ded",
   "metadata": {},
   "outputs": [],
   "source": [
    "@switch_privacy\n",
    "class ExampleClass:\n",
    "    # Но не здесь\n",
    "    def public_method(self):\n",
    "        return 1\n",
    "    \n",
    "    def _protected_method(self):\n",
    "        return 2\n",
    "    \n",
    "    def __private_method(self):\n",
    "        return 3\n",
    "    \n",
    "    def __dunder_method__(self):\n",
    "        pass"
   ]
  },
  {
   "cell_type": "code",
   "execution_count": 242,
   "id": "c936077d-e618-459c-bbcc-6ad1b22d0975",
   "metadata": {},
   "outputs": [
    {
     "data": {
      "text/plain": [
       "1"
      ]
     },
     "execution_count": 242,
     "metadata": {},
     "output_type": "execute_result"
    }
   ],
   "source": [
    "test_object = ExampleClass()\n",
    "\n",
    "test_object._ExampleClass__public_method()   # Публичный метод стал приватным"
   ]
  },
  {
   "cell_type": "code",
   "execution_count": 243,
   "id": "10603672-80cf-460c-9305-d0950094419d",
   "metadata": {},
   "outputs": [
    {
     "data": {
      "text/plain": [
       "3"
      ]
     },
     "execution_count": 243,
     "metadata": {},
     "output_type": "execute_result"
    }
   ],
   "source": [
    "test_object.private_method()   # Приватный метод стал публичным"
   ]
  },
  {
   "cell_type": "code",
   "execution_count": 244,
   "id": "f30b1ef8-0f80-482d-89f1-09caece61c88",
   "metadata": {},
   "outputs": [
    {
     "data": {
      "text/plain": [
       "2"
      ]
     },
     "execution_count": 244,
     "metadata": {},
     "output_type": "execute_result"
    }
   ],
   "source": [
    "test_object._protected_method()   # Защищённый метод остался защищённым"
   ]
  },
  {
   "cell_type": "code",
   "execution_count": 245,
   "id": "71d51e6e-62b5-4440-af3e-75088761b1bf",
   "metadata": {},
   "outputs": [],
   "source": [
    "test_object.__dunder_method__()   # Дандер метод не изменился"
   ]
  },
  {
   "cell_type": "code",
   "execution_count": 246,
   "id": "a97cf0c4-4881-441c-83b6-ef8955377585",
   "metadata": {},
   "outputs": [
    {
     "data": {
      "text/plain": [
       "(False, False)"
      ]
     },
     "execution_count": 246,
     "metadata": {},
     "output_type": "execute_result"
    }
   ],
   "source": [
    "hasattr(test_object, \"public_method\"), hasattr(test_object, \"private\")   # Изначальные варианты изменённых методов не сохраняются"
   ]
  },
  {
   "cell_type": "markdown",
   "id": "31ad0bdd-9a24-4d6c-a499-e975b4b6acdd",
   "metadata": {},
   "source": [
    "# Задание 5 (7 баллов)"
   ]
  },
  {
   "cell_type": "markdown",
   "id": "68c75d25-37f7-491d-bcc0-ba74e8bdb364",
   "metadata": {},
   "source": [
    "Напишите [контекстный менеджер](https://docs.python.org/3/library/stdtypes.html#context-manager-types) `OpenFasta`\n",
    "\n",
    "Контекстные менеджеры это специальные объекты, которые могут работать с конструкцией `with ... as ...:`. В них нет ничего сложного, для их реализации как обычно нужно только определить только пару dunder методов. Изучите этот вопрос самостоятельно\n",
    "\n",
    "1. Объект должен работать как обычные файлы в питоне (наследоваться не надо, здесь лучше будет использовать **композицию**), но:\n",
    "    + При итерации по объекту мы должны будем получать не строку из файла, а специальный объект `FastaRecord`. Он будет хранить в себе информацию о последовательности. Важно, **не строки, а именно последовательности**, в fasta файлах последовательность часто разбивают на много строк\n",
    "    + Нужно написать методы `read_record` и `read_records`, которые по смыслу соответствуют `readline()` и `readlines()` в обычных файлах, но они должны выдавать не строки, а объект(ы) `FastaRecord`\n",
    "2. Конструктор должен принимать один аргумент - **путь к файлу**\n",
    "3. Класс должен эффективно распоряжаться памятью, с расчётом на работу с очень большими файлами\n",
    "    \n",
    "Объект `FastaRecord`. Это должен быть **датакласс** (см. про примеры декораторов в соответствующей лекции) с тремя полями:\n",
    "+ `seq` - последовательность\n",
    "+ `id_` - ID последовательности (это то, что в фаста файле в строке, которая начинается с `>` до первого пробела. Например, >**GTD326487.1** Species anonymous 24 chromosome) \n",
    "+ `description` - то, что осталось после ID (Например, >GTD326487.1 **Species anonymous 24 chromosome**)\n",
    "\n",
    "\n",
    "Напишите демонстрацию работы кода с использованием всех написанных методов, обязательно добавьте файл с тестовыми данными в репозиторий (не обязательно большой)\n",
    "\n",
    "**Можно использовать модули из стандартной библиотеки**"
   ]
  },
  {
   "cell_type": "code",
   "execution_count": 247,
   "id": "5188b5d5-1e6e-4b11-9b54-9ba809210dfc",
   "metadata": {},
   "outputs": [],
   "source": [
    "from dataclasses import dataclass\n",
    "import os\n",
    "\n",
    "\n",
    "@dataclass\n",
    "class FastaRecord:\n",
    "    seq: str\n",
    "    id_: str\n",
    "    description: str\n",
    "\n",
    "    def __str__(self):\n",
    "        return (\n",
    "            f'{self.id_} ({self.description})'\n",
    "            '\\n'\n",
    "            f'{self.seq}'\n",
    "            '\\n'\n",
    "        )\n",
    "    \n",
    "    def __repr__(self):\n",
    "        return f'<FastaRecord object>'\n",
    "\n",
    "\n",
    "class OpenFasta:\n",
    "    def __init__(self, file_path):\n",
    "        self.file_path = file_path\n",
    "        self.file_object = None\n",
    "        self.sequence_header = None\n",
    "    \n",
    "    def __enter__(self):\n",
    "        self.file_object = open(self.file_path, \"r\")\n",
    "        return self\n",
    "    \n",
    "    def __exit__(self, exc_type, exc_value, exc_traceback):\n",
    "        if self.file_object:\n",
    "            self.file_object.close()\n",
    "    \n",
    "    def read_record(self):\n",
    "        seq = \"\"\n",
    "        id_ = \"\"\n",
    "        description = \"\"\n",
    "\n",
    "        if not self.sequence_header: # extract id and descr for the first sequence\n",
    "            for line in self.file_object:\n",
    "                line = line.strip()\n",
    "                if line.startswith(\">\"): # just in case .fasta file starts with commented lines\n",
    "                    id_ = line[1:].split(\" \")[0]\n",
    "                    description = \" \".join(line[1:].split(\" \")[1:])\n",
    "                    break\n",
    "        else: # extract id and descr for all sequences but the first one\n",
    "            if self.sequence_header.startswith(\">\"):\n",
    "                id_ = self.sequence_header[1:].split(\" \")[0]\n",
    "                description = \" \".join(self.sequence_header[1:].split(\" \")[1:])\n",
    "        \n",
    "        for line in self.file_object:\n",
    "            line = line.strip()\n",
    "            if line.startswith(\">\"):\n",
    "                self.sequence_header = line\n",
    "                break\n",
    "            elif line == \"\": # end of the file\n",
    "                break\n",
    "            seq = \"\".join([seq, line])\n",
    "        \n",
    "        return FastaRecord(seq=seq, id_=id_, description=description)\n",
    "    \n",
    "    def read_records(self):\n",
    "        while True:\n",
    "            record = self.read_record()\n",
    "            if not record.seq:\n",
    "                break\n",
    "            yield record"
   ]
  },
  {
   "cell_type": "code",
   "execution_count": 248,
   "id": "4fdfdaf9",
   "metadata": {},
   "outputs": [
    {
     "name": "stdout",
     "output_type": "stream",
     "text": [
      "seq1 ()\n",
      "ACTACGTAGTCAGTCAGTCTACTGACTGAGTCAGTCGTACGTATAATCGATCGACGTAGTCAGTCGACGTAGTCGTACGTATTAGCGTACGTACGTACTATACGAGCGACGACGACG\n",
      "\n",
      "seq2 (description example)\n",
      "AGGAGAGACGCGAGCGCGA\n",
      "\n",
      "seq3 ()\n",
      "ACAGCGACGACGAGCATCTACGTACTGTCCGTA\n",
      "\n",
      "seq4 ()\n",
      "GTGGGCAGCGACGAGGACAC\n",
      "\n",
      "seq5 ()\n",
      "NNNNNNNNNNNN\n",
      "\n",
      "GTD326487.1 (**Species anonymous 24 chromosome**)\n",
      "ATAATCGATCGACGTAGTCAGTCGACGTAGTCGTACGTATTAGCGTACGTACGTACTTAGCGGACTAGCGTACGATCGACTACGTACGTACGTACGTACGTACGTACGTACGTACGTACGTCGTAACYAYCGATATCAGTCGTCAGTAGTCGTACGTACGTACGTACGTACGTACGTACTGACGTAC\n",
      "\n",
      "w ()\n",
      "A\n",
      "\n"
     ]
    }
   ],
   "source": [
    "with OpenFasta(os.path.join(\"data\", \"example.fasta\")) as fasta:\n",
    "    for record in fasta.read_records():\n",
    "        print(record)"
   ]
  },
  {
   "cell_type": "code",
   "execution_count": 249,
   "id": "768a1c80",
   "metadata": {},
   "outputs": [
    {
     "name": "stdout",
     "output_type": "stream",
     "text": [
      "seq1 ()\n",
      "ACTACGTAGTCAGTCAGTCTACTGACTGAGTCAGTCGTACGTATAATCGATCGACGTAGTCAGTCGACGTAGTCGTACGTATTAGCGTACGTACGTACTATACGAGCGACGACGACG\n",
      "\n",
      "seq2 (description example)\n",
      "AGGAGAGACGCGAGCGCGA\n",
      "\n"
     ]
    }
   ],
   "source": [
    "with OpenFasta(os.path.join(\"data\", \"example.fasta\")) as fasta:\n",
    "    print(fasta.read_record())\n",
    "    print(fasta.read_record())"
   ]
  },
  {
   "cell_type": "markdown",
   "id": "4db652e9-7697-4dd7-bcc3-649bdc18c1c4",
   "metadata": {},
   "source": [
    "# Задание 6 (7 баллов)"
   ]
  },
  {
   "cell_type": "markdown",
   "id": "a8ba05f3-29f0-48be-a477-c1f61a9e0537",
   "metadata": {},
   "source": [
    "1. Напишите код, который позволит получать все возможные (неуникальные) генотипы при скрещивании двух организмов. Это может быть функция или класс, что вам кажется более удобным.\n",
    "\n",
    "Например, все возможные исходы скрещивания \"Aabb\" и \"Aabb\" (неуникальные) это\n",
    "\n",
    "```\n",
    "AAbb\n",
    "AAbb\n",
    "AAbb\n",
    "AAbb\n",
    "Aabb\n",
    "Aabb\n",
    "Aabb\n",
    "Aabb\n",
    "Aabb\n",
    "Aabb\n",
    "Aabb\n",
    "Aabb\n",
    "aabb\n",
    "aabb\n",
    "aabb\n",
    "aabb\n",
    "```\n",
    "\n",
    "2. Напишите функцию, которая вычисляет вероятность появления определённого генотипа (его ожидаемую долю в потомстве).\n",
    "Например,\n",
    "\n",
    "```python\n",
    "get_offspting_genotype_probability(parent1=\"Aabb\", parent2=\"Aabb\", target_genotype=\"Аabb\")   # 0.5\n",
    "\n",
    "```\n",
    "\n",
    "3. Напишите код, который выводит все уникальные генотипы при скрещивании `'АаБбввГгДдЕеЖжЗзИиЙйккЛлМмНн'` и `'АаббВвГгДДЕеЖжЗзИиЙйКкЛлМмНН'`, которые содержат в себе следующую комбинацию аллелей `'АаБбВвГгДдЕеЖжЗзИиЙйКкЛл'`\n",
    "4. Напишите код, который расчитывает вероятность появления генотипа `'АаБбввГгДдЕеЖжЗзИиЙйккЛлМмНн'` при скрещивании `АаБбВвГгДдЕеЖжЗзИиЙйКкЛлМмНн` и `АаБбВвГгДдЕеЖжЗзИиЙйКкЛлМмНн`\n",
    "\n",
    "Важные замечания:\n",
    "1. Порядок следования аллелей в случае гетерозигот всегда должен быть следующим: сначала большая буква, затем маленькая (вариант `AaBb` допустим, но `aAbB` быть не должно)\n",
    "2. Подзадачи 3 и 4 могут потребовать много вычислительного времени (до 15+ минут в зависимости от железа), поэтому убедитесь, что вы хорошо протестировали написанный вами код на малых данных перед выполнением этих задач. Если ваш код работает **дольше 20 мин**, то скорее всего ваше решение не оптимально, попытайтесь что-нибудь оптимизировать. Если оптимальное решение совсем не получается, то попробуйте из входных данных во всех заданиях убрать последний ген (это должно уменьшить время выполнения примерно в 4 раза), но **за такое решение будет снято 2 балла**\n",
    "3. Несмотря на то, что подзадания 2, 3 и 4 возможно решить математически, не прибегая к непосредственному получению всех возможных генотипов, от вас требуется именно brute-force вариант алгоритма\n",
    "\n",
    "**Можно использовать модули из стандартной библиотеки питона**, но **за выполнение задания без использования модулей придусмотрено +3 дополнительных балла**"
   ]
  },
  {
   "cell_type": "code",
   "execution_count": 251,
   "id": "c64841e9-dfcd-45bb-bcaa-d672ea03a744",
   "metadata": {
    "tags": []
   },
   "outputs": [],
   "source": [
    "# Ваш код здесь (1 подзадание)\n",
    "# class to work with alleles of one gene for a diploid organism\n",
    "\n",
    "class Alleles:\n",
    "    def __init__(self, first, second, p=1.0):\n",
    "        first_dominant = first.isupper()\n",
    "        \n",
    "        # dominant always first\n",
    "        if first_dominant:\n",
    "            self.first = first\n",
    "            self.second = second\n",
    "        else:\n",
    "            self.first = second\n",
    "            self.second = first\n",
    "\n",
    "        self.p = p\n",
    "        \"\"\"uncomment the following line if you want to use\n",
    "        another version of combinations method!!!!!\"\"\"\n",
    "        #self.homozygous = self.first == self.second\n",
    "    \n",
    "    def __eq__(self, other):\n",
    "        return (self.first == other.first) and (self.second == other.second)\n",
    "    \n",
    "    def __str__(self):\n",
    "        return f'{self.first}{self.second}'\n",
    "\n",
    "    def __repr__(self):\n",
    "        return f'{self.first}{self.second}'\n",
    "    \n",
    "    def combinations(self, other_alleles): \n",
    "        \"\"\"returns list of all children one-gene genotypes (type Alleles)\n",
    "        second version, more brutforcing in terms of combinations\n",
    "        I'd rather use defaultdict here, but there's a restriction\n",
    "        on modules :-(\"\"\"\n",
    "        child_1 = Alleles(self.first, other_alleles.first, p=0.25)\n",
    "        child_2 = Alleles(self.first, other_alleles.second, p=0.25)\n",
    "        child_3 = Alleles(self.second, other_alleles.first, p=0.25)\n",
    "        child_4 = Alleles(self.second, other_alleles.second, p=0.25)\n",
    "        children_non_unique = [child_1, child_2, child_3, child_4]\n",
    "\n",
    "        children_unique = dict() # dict to collapse identical children one-gene genotypes and summarize the probability\n",
    "        for child in children_non_unique:\n",
    "            if (child.first, child.second) not in children_unique.keys():\n",
    "                children_unique[(child.first, child.second)] = child.p\n",
    "            else:\n",
    "                children_unique[(child.first, child.second)] += child.p\n",
    "\n",
    "        children_alleles = [] # list for unique children one-gene genotypes\n",
    "        for child_alleles, child_p in children_unique.items():\n",
    "            child = Alleles(child_alleles[0], child_alleles[1], child_p)\n",
    "            children_alleles.append(child)\n",
    "\n",
    "        return children_alleles\n",
    "    '''\n",
    "    def combinations(self, other_alleles):\n",
    "        \"\"\"first version, not sure if it is cheating and formula usage\n",
    "        needs an uncommented 18 line!!!!!!!!\"\"\"\n",
    "        if self.homozygous and other_alleles.homozygous:\n",
    "            child = Alleles(self.first, other_alleles.first, p=1.0)\n",
    "            return [child]\n",
    "        elif self.homozygous:\n",
    "            child_1 = Alleles(self.first, other_alleles.first, p=0.5)\n",
    "            child_2 = Alleles(self.first, other_alleles.second, p=0.5)\n",
    "            return [child_1, child_2]\n",
    "        elif other_alleles.homozygous:\n",
    "            child_1 = Alleles(self.first, other_alleles.first, p=0.5)\n",
    "            child_2 = Alleles(self.second, other_alleles.first, p=0.5)\n",
    "            return [child_1, child_2]\n",
    "        else:\n",
    "            child_1 = Alleles(self.first, other_alleles.first, p=0.25)\n",
    "            child_2 = Alleles(self.first, other_alleles.second, p=0.5)\n",
    "            child_3 = Alleles(self.second, other_alleles.second, p=0.25)\n",
    "            return [child_1, child_2, child_3]\n",
    "            '''\n",
    "            \n",
    "# class to work with genotypes of any genes of diploid organism\n",
    "\n",
    "class Genotype:\n",
    "    def __init__(self, genotype):\n",
    "        self.genes_alleles = self.get_alleles(genotype)\n",
    "    \n",
    "    def __len__(self):\n",
    "        return len(self.genes_alleles) # number of genes\n",
    "    \n",
    "    def __repr__(self):\n",
    "        repr = \"\".join(str(x) for x in self.genes_alleles)\n",
    "        return repr\n",
    "    \n",
    "    def __str__(self):\n",
    "        str_repr = \"\".join(str(x) for x in self.genes_alleles)\n",
    "        return str_repr\n",
    "    \n",
    "    @classmethod # to avoid reinitializing via strings\n",
    "    def from_list(cls, alleles_list):\n",
    "        indiv = cls(\"\")\n",
    "        indiv.genes_alleles = alleles_list\n",
    "        return indiv\n",
    "    \n",
    "    def get_alleles(self, genotype):\n",
    "        \"\"\"Extract unique alleles of all genes from a string\"\"\"\n",
    "        n_alleles = len(genotype) // 2\n",
    "        gtype = []\n",
    "        for i in range(n_alleles):\n",
    "            first = genotype[i * 2]\n",
    "            second = genotype[i * 2 + 1]\n",
    "            allele = Alleles(first, second)\n",
    "            gtype.append(allele)\n",
    "        return gtype\n",
    "    \n",
    "    def mate(self, other):\n",
    "        \"\"\"combine genotypes of two individuals\"\"\"\n",
    "        if len(self.genes_alleles) != len(other.genes_alleles):\n",
    "            raise IndexError(\"parents' genotypes must correspond\")\n",
    "        return [x[0].combinations(x[1]) for x in zip(self.genes_alleles, other.genes_alleles)]\n",
    "\n",
    "    def startswith(self, prefix):\n",
    "        \"\"\"for 3 task\"\"\"\n",
    "        if len(self.genes_alleles) < len(prefix.genes_alleles): # prefix can not be smaller than genotype\n",
    "            return False\n",
    "        for als_idx in range(len(prefix.genes_alleles)):\n",
    "            if self.genes_alleles[als_idx] != prefix.genes_alleles[als_idx]: # prefix alleles can not be different from the same genotype alleles\n",
    "                return False\n",
    "        return True\n",
    "    \n",
    "    def gtype_prob(self):\n",
    "        \"\"\"probability of genotype\"\"\"\n",
    "        probability = 1\n",
    "        for gene in self.genes_alleles:\n",
    "            probability *= gene.p\n",
    "        return probability\n",
    "\n",
    "\n",
    "def combinations(allele_pairs):\n",
    "    \"\"\"recursive function to make all combinations of possible \n",
    "    one-gene genotypes for any gene number\"\"\"\n",
    "    if len(allele_pairs) == 1: # 1 gene left\n",
    "        for one_gene_alleles in allele_pairs[0]:\n",
    "            yield [one_gene_alleles]\n",
    "    else:\n",
    "        for gtype in allele_pairs[0]:\n",
    "            for one_gene_alleles in combinations(allele_pairs[1:]):\n",
    "                yield [gtype] + one_gene_alleles\n",
    "\n",
    "def unique_gtypes(unique_gtypes):\n",
    "    unique_genotypes = []\n",
    "    for gtype in combinations(unique_gtypes):\n",
    "        genotype = Genotype.from_list(gtype)\n",
    "        unique_genotypes.append(genotype)\n",
    "    return unique_genotypes\n",
    "\n",
    "def non_unique_gtypes(unique_gtypes):\n",
    "    genotype_len = len(unique_gtypes) * 2\n",
    "    genotype_number = genotype_len ** 2\n",
    "    non_unique_genotypes = []\n",
    "    for gtype in combinations(unique_gtypes):\n",
    "        genotype = Genotype.from_list(gtype)\n",
    "        gtype_p = genotype.gtype_prob()\n",
    "        gtype_duplicates = int(genotype_number * gtype_p)\n",
    "        non_unique_genotypes.extend([genotype] * gtype_duplicates)\n",
    "    return non_unique_genotypes      \n",
    "\n",
    "def unique_offspring(p1, p2):\n",
    "    p1_gt, p2_gt = Genotype(p1), Genotype(p2)\n",
    "    alleles_per_gene = p1_gt.mate(p2_gt)\n",
    "    return unique_gtypes(alleles_per_gene)\n",
    "\n",
    "def non_unique_offspring(p1, p2):\n",
    "    p1_gt, p2_gt = Genotype(p1), Genotype(p2)\n",
    "    alleles_per_gene = p1_gt.mate(p2_gt)\n",
    "    return non_unique_gtypes(alleles_per_gene)\n"
   ]
  },
  {
   "cell_type": "code",
   "execution_count": 252,
   "id": "902bca41",
   "metadata": {},
   "outputs": [
    {
     "name": "stdout",
     "output_type": "stream",
     "text": [
      "AAbb\n",
      "AAbb\n",
      "AAbb\n",
      "AAbb\n",
      "Aabb\n",
      "Aabb\n",
      "Aabb\n",
      "Aabb\n",
      "Aabb\n",
      "Aabb\n",
      "Aabb\n",
      "Aabb\n",
      "aabb\n",
      "aabb\n",
      "aabb\n",
      "aabb\n"
     ]
    }
   ],
   "source": [
    "parent1 = \"Aabb\"\n",
    "parent2 = \"Aabb\"\n",
    "\n",
    "for child_gtype in non_unique_offspring(parent1, parent2):\n",
    "    print(child_gtype)"
   ]
  },
  {
   "cell_type": "code",
   "execution_count": 253,
   "id": "9d01f425",
   "metadata": {},
   "outputs": [
    {
     "name": "stdout",
     "output_type": "stream",
     "text": [
      "AABB\n",
      "AABB\n",
      "AABb\n",
      "AABb\n",
      "AaBB\n",
      "AaBB\n",
      "AaBB\n",
      "AaBB\n",
      "AaBb\n",
      "AaBb\n",
      "AaBb\n",
      "AaBb\n",
      "aaBB\n",
      "aaBB\n",
      "aaBb\n",
      "aaBb\n"
     ]
    }
   ],
   "source": [
    "parent1 = \"AaBb\"\n",
    "parent2 = \"AaBB\"\n",
    "\n",
    "for child_gtype in non_unique_offspring(parent1, parent2):\n",
    "    print(child_gtype)"
   ]
  },
  {
   "cell_type": "code",
   "execution_count": 254,
   "id": "636fd264",
   "metadata": {},
   "outputs": [],
   "source": [
    "# (2 subtask)\n",
    "\n",
    "def get_offspring_genotype_probability(parent1, parent2, target_genotype):\n",
    "    for child_gtype in unique_offspring(parent1, parent2):\n",
    "        if str(child_gtype) == target_genotype:\n",
    "            return child_gtype.gtype_prob()\n",
    "    return 0.0"
   ]
  },
  {
   "cell_type": "code",
   "execution_count": 255,
   "id": "2b6fb91f",
   "metadata": {},
   "outputs": [
    {
     "data": {
      "text/plain": [
       "0.5"
      ]
     },
     "execution_count": 255,
     "metadata": {},
     "output_type": "execute_result"
    }
   ],
   "source": [
    "get_offspring_genotype_probability(parent1=\"Aabb\", parent2=\"Aabb\", target_genotype=\"Aabb\")   # 0.5"
   ]
  },
  {
   "cell_type": "code",
   "execution_count": 256,
   "id": "fdfb6d8c-0da7-4857-9579-6921dc409eb3",
   "metadata": {
    "tags": []
   },
   "outputs": [
    {
     "name": "stdout",
     "output_type": "stream",
     "text": [
      "АаБбВвГгДдЕеЖжЗзИиЙйКкЛлММНН\n",
      "АаБбВвГгДдЕеЖжЗзИиЙйКкЛлММНн\n",
      "АаБбВвГгДдЕеЖжЗзИиЙйКкЛлМмНН\n",
      "АаБбВвГгДдЕеЖжЗзИиЙйКкЛлМмНн\n",
      "АаБбВвГгДдЕеЖжЗзИиЙйКкЛлммНН\n",
      "АаБбВвГгДдЕеЖжЗзИиЙйКкЛлммНн\n"
     ]
    }
   ],
   "source": [
    "# Ваш код здесь (3 подзадание)\n",
    "\n",
    "prefix = Genotype(\"АаБбВвГгДдЕеЖжЗзИиЙйКкЛл\")\n",
    "parent1 = Genotype(\"АаБбввГгДдЕеЖжЗзИиЙйккЛлМмНн\")\n",
    "parent2 = Genotype(\"АаббВвГгДДЕеЖжЗзИиЙйКкЛлМмНН\")\n",
    "alleles_per_gene = parent1.mate(parent2)\n",
    "for offspring in combinations(alleles_per_gene):\n",
    "    offspring_gt = Genotype.from_list(offspring)\n",
    "    if offspring_gt.startswith(prefix):\n",
    "        print(offspring_gt)\n",
    "    else:\n",
    "        continue"
   ]
  },
  {
   "cell_type": "code",
   "execution_count": 257,
   "id": "3e8a17cc-0642-49ae-ba6b-51ab5499660e",
   "metadata": {},
   "outputs": [
    {
     "name": "stdout",
     "output_type": "stream",
     "text": [
      "1.52587890625e-05\n"
     ]
    }
   ],
   "source": [
    "# Ваш код здесь (4 подзадание)\n",
    "\n",
    "offspring_wanted = \"АаБбввГгДдЕеЖжЗзИиЙйккЛлМмНн\"\n",
    "parent_1 = \"АаБбВвГгДдЕеЖжЗзИиЙйКкЛлМмНн\"\n",
    "parent_2 = \"АаБбВвГгДдЕеЖжЗзИиЙйКкЛлМмНн\"\n",
    "\n",
    "print(get_offspring_genotype_probability(parent1=parent_1, parent2=parent_2, target_genotype=offspring_wanted))"
   ]
  },
  {
   "cell_type": "code",
   "execution_count": null,
   "id": "0ccaf595",
   "metadata": {},
   "outputs": [],
   "source": []
  }
 ],
 "metadata": {
  "kernelspec": {
   "display_name": "Python 3",
   "language": "python",
   "name": "python3"
  },
  "language_info": {
   "codemirror_mode": {
    "name": "ipython",
    "version": 3
   },
   "file_extension": ".py",
   "mimetype": "text/x-python",
   "name": "python",
   "nbconvert_exporter": "python",
   "pygments_lexer": "ipython3",
   "version": "3.9.16"
  },
  "vscode": {
   "interpreter": {
    "hash": "916dbcbb3f70747c44a77c7bcd40155683ae19c65e1c03b4aa3499c5328201f1"
   }
  }
 },
 "nbformat": 4,
 "nbformat_minor": 5
}
